{
 "cells": [
  {
   "cell_type": "markdown",
   "metadata": {},
   "source": [
    "# Movie Subtitles Analysis\n",
    "This notebook provides an analysis of movie subtitles based on Kaggle dataset publically available for everyone.\n",
    "\n",
    "The dataset contains movie subtitles for popular movies across multiple languages, with metadata extracted from IMDB.\n",
    "The full dataset can be referenced directly via: https://www.kaggle.com/datasets/adiamaan/movie-subtitle-dataset\n"
   ]
  },
  {
   "cell_type": "code",
   "execution_count": 2,
   "metadata": {
    "tags": []
   },
   "outputs": [
    {
     "name": "stdout",
     "output_type": "stream",
     "text": [
      "Keyring is skipped due to an exception: 'keyring.backends'\n",
      "\u001b[33mWARNING: Skipping bson as it is not installed.\u001b[0m\u001b[33m\n",
      "\u001b[0m\u001b[33mWARNING: Running pip as the 'root' user can result in broken permissions and conflicting behaviour with the system package manager. It is recommended to use a virtual environment instead: https://pip.pypa.io/warnings/venv\u001b[0m\u001b[33m\n",
      "\u001b[0mKeyring is skipped due to an exception: 'keyring.backends'\n",
      "\u001b[33mWARNING: Skipping pymongo as it is not installed.\u001b[0m\u001b[33m\n",
      "\u001b[0m\u001b[33mWARNING: Running pip as the 'root' user can result in broken permissions and conflicting behaviour with the system package manager. It is recommended to use a virtual environment instead: https://pip.pypa.io/warnings/venv\u001b[0m\u001b[33m\n",
      "\u001b[0mKeyring is skipped due to an exception: 'keyring.backends'\n",
      "Collecting pymongo\n",
      "  Downloading pymongo-4.3.3-cp37-cp37m-manylinux_2_17_x86_64.manylinux2014_x86_64.whl (484 kB)\n",
      "\u001b[2K     \u001b[90m━━━━━━━━━━━━━━━━━━━━━━━━━━━━━━━━━━━━━━━\u001b[0m \u001b[32m484.5/484.5 kB\u001b[0m \u001b[31m6.9 MB/s\u001b[0m eta \u001b[36m0:00:00\u001b[0m00:01\u001b[0m\n",
      "\u001b[?25hCollecting dnspython<3.0.0,>=1.16.0\n",
      "  Downloading dnspython-2.3.0-py3-none-any.whl (283 kB)\n",
      "\u001b[2K     \u001b[90m━━━━━━━━━━━━━━━━━━━━━━━━━━━━━━━━━━━━━━━\u001b[0m \u001b[32m283.7/283.7 kB\u001b[0m \u001b[31m4.8 MB/s\u001b[0m eta \u001b[36m0:00:00\u001b[0m00:01\u001b[0m\n",
      "\u001b[?25hInstalling collected packages: dnspython, pymongo\n",
      "Successfully installed dnspython-2.3.0 pymongo-4.3.3\n",
      "\u001b[33mWARNING: Running pip as the 'root' user can result in broken permissions and conflicting behaviour with the system package manager. It is recommended to use a virtual environment instead: https://pip.pypa.io/warnings/venv\u001b[0m\u001b[33m\n",
      "\u001b[0m\n",
      "\u001b[1m[\u001b[0m\u001b[34;49mnotice\u001b[0m\u001b[1;39;49m]\u001b[0m\u001b[39;49m A new release of pip available: \u001b[0m\u001b[31;49m22.3.1\u001b[0m\u001b[39;49m -> \u001b[0m\u001b[32;49m23.0\u001b[0m\n",
      "\u001b[1m[\u001b[0m\u001b[34;49mnotice\u001b[0m\u001b[1;39;49m]\u001b[0m\u001b[39;49m To update, run: \u001b[0m\u001b[32;49mpip install --upgrade pip\u001b[0m\n"
     ]
    }
   ],
   "source": [
    "! pip uninstall bson -y && pip uninstall pymongo -y &&  pip install pymongo"
   ]
  },
  {
   "cell_type": "code",
   "execution_count": 3,
   "metadata": {
    "tags": []
   },
   "outputs": [],
   "source": [
    "import pandas as pd\n",
    "import os\n",
    "import matplotlib.pyplot as plt"
   ]
  },
  {
   "cell_type": "markdown",
   "metadata": {},
   "source": [
    "## Move Subtitles Data Analysis"
   ]
  },
  {
   "cell_type": "code",
   "execution_count": 4,
   "metadata": {
    "tags": []
   },
   "outputs": [],
   "source": [
    "# srt_df = pd.read_csv(\"data/movies_subtitles.csv\")\n",
    "# metadata_df = pd.read_csv(\"data/movies_meta.csv\")\n",
    "srt_df = pd.read_csv(\"s3://sagemaker-us-east-1-602900100639/data/imdb/movies/movies_subtitles.csv\")\n",
    "metadata_df = pd.read_csv(\"s3://sagemaker-us-east-1-602900100639/data/imdb/movies/movies_meta.csv\")"
   ]
  },
  {
   "cell_type": "code",
   "execution_count": 6,
   "metadata": {},
   "outputs": [
    {
     "data": {
      "text/html": [
       "<div>\n",
       "<style scoped>\n",
       "    .dataframe tbody tr th:only-of-type {\n",
       "        vertical-align: middle;\n",
       "    }\n",
       "\n",
       "    .dataframe tbody tr th {\n",
       "        vertical-align: top;\n",
       "    }\n",
       "\n",
       "    .dataframe thead th {\n",
       "        text-align: right;\n",
       "    }\n",
       "</style>\n",
       "<table border=\"1\" class=\"dataframe\">\n",
       "  <thead>\n",
       "    <tr style=\"text-align: right;\">\n",
       "      <th></th>\n",
       "      <th>start_time</th>\n",
       "      <th>end_time</th>\n",
       "      <th>text</th>\n",
       "      <th>imdb_id</th>\n",
       "    </tr>\n",
       "  </thead>\n",
       "  <tbody>\n",
       "    <tr>\n",
       "      <th>0</th>\n",
       "      <td>58.559</td>\n",
       "      <td>61.602</td>\n",
       "      <td>BOY: All right, everyone!\\nThis... is a stick-up!</td>\n",
       "      <td>tt0114709</td>\n",
       "    </tr>\n",
       "    <tr>\n",
       "      <th>1</th>\n",
       "      <td>61.687</td>\n",
       "      <td>63.354</td>\n",
       "      <td>Don't anybody move!</td>\n",
       "      <td>tt0114709</td>\n",
       "    </tr>\n",
       "    <tr>\n",
       "      <th>2</th>\n",
       "      <td>64.398</td>\n",
       "      <td>66.482</td>\n",
       "      <td>Now, empty that safe!</td>\n",
       "      <td>tt0114709</td>\n",
       "    </tr>\n",
       "    <tr>\n",
       "      <th>3</th>\n",
       "      <td>68.318</td>\n",
       "      <td>71.612</td>\n",
       "      <td>Ooh-hoo-hoo!\\nMoney, money, money! (KISSING)</td>\n",
       "      <td>tt0114709</td>\n",
       "    </tr>\n",
       "    <tr>\n",
       "      <th>4</th>\n",
       "      <td>71.697</td>\n",
       "      <td>74.031</td>\n",
       "      <td>Stop it! Stop it,\\nyou mean, old potato!</td>\n",
       "      <td>tt0114709</td>\n",
       "    </tr>\n",
       "  </tbody>\n",
       "</table>\n",
       "</div>"
      ],
      "text/plain": [
       "   start_time  end_time                                               text  \\\n",
       "0      58.559    61.602  BOY: All right, everyone!\\nThis... is a stick-up!   \n",
       "1      61.687    63.354                                Don't anybody move!   \n",
       "2      64.398    66.482                              Now, empty that safe!   \n",
       "3      68.318    71.612       Ooh-hoo-hoo!\\nMoney, money, money! (KISSING)   \n",
       "4      71.697    74.031           Stop it! Stop it,\\nyou mean, old potato!   \n",
       "\n",
       "     imdb_id  \n",
       "0  tt0114709  \n",
       "1  tt0114709  \n",
       "2  tt0114709  \n",
       "3  tt0114709  \n",
       "4  tt0114709  "
      ]
     },
     "execution_count": 6,
     "metadata": {},
     "output_type": "execute_result"
    }
   ],
   "source": [
    "srt_df.head()"
   ]
  },
  {
   "cell_type": "code",
   "execution_count": 7,
   "metadata": {
    "tags": []
   },
   "outputs": [
    {
     "name": "stdout",
     "output_type": "stream",
     "text": [
      "Movie Subtitle dataset contains: 10358496 rows\n"
     ]
    }
   ],
   "source": [
    "print(f\"Movie Subtitle dataset contains: {srt_df.shape[0]} rows\")"
   ]
  },
  {
   "cell_type": "markdown",
   "metadata": {},
   "source": [
    "# Movie Metadata Data Analysis"
   ]
  },
  {
   "cell_type": "code",
   "execution_count": 8,
   "metadata": {
    "tags": []
   },
   "outputs": [
    {
     "data": {
      "text/html": [
       "<div>\n",
       "<style scoped>\n",
       "    .dataframe tbody tr th:only-of-type {\n",
       "        vertical-align: middle;\n",
       "    }\n",
       "\n",
       "    .dataframe tbody tr th {\n",
       "        vertical-align: top;\n",
       "    }\n",
       "\n",
       "    .dataframe thead th {\n",
       "        text-align: right;\n",
       "    }\n",
       "</style>\n",
       "<table border=\"1\" class=\"dataframe\">\n",
       "  <thead>\n",
       "    <tr style=\"text-align: right;\">\n",
       "      <th></th>\n",
       "      <th>adult</th>\n",
       "      <th>belongs_to_collection</th>\n",
       "      <th>budget</th>\n",
       "      <th>genres</th>\n",
       "      <th>homepage</th>\n",
       "      <th>id</th>\n",
       "      <th>imdb_id</th>\n",
       "      <th>original_language</th>\n",
       "      <th>original_title</th>\n",
       "      <th>overview</th>\n",
       "      <th>...</th>\n",
       "      <th>release_date</th>\n",
       "      <th>revenue</th>\n",
       "      <th>runtime</th>\n",
       "      <th>spoken_languages</th>\n",
       "      <th>status</th>\n",
       "      <th>tagline</th>\n",
       "      <th>title</th>\n",
       "      <th>video</th>\n",
       "      <th>vote_average</th>\n",
       "      <th>vote_count</th>\n",
       "    </tr>\n",
       "  </thead>\n",
       "  <tbody>\n",
       "    <tr>\n",
       "      <th>0</th>\n",
       "      <td>False</td>\n",
       "      <td>{'id': 10194, 'name': 'Toy Story Collection', ...</td>\n",
       "      <td>30000000</td>\n",
       "      <td>[{'id': 16, 'name': 'Animation'}, {'id': 35, '...</td>\n",
       "      <td>http://toystory.disney.com/toy-story</td>\n",
       "      <td>862</td>\n",
       "      <td>tt0114709</td>\n",
       "      <td>en</td>\n",
       "      <td>Toy Story</td>\n",
       "      <td>Led by Woody, Andy's toys live happily in his ...</td>\n",
       "      <td>...</td>\n",
       "      <td>1995-10-30</td>\n",
       "      <td>373554033.0</td>\n",
       "      <td>81.0</td>\n",
       "      <td>[{'iso_639_1': 'en', 'name': 'English'}]</td>\n",
       "      <td>Released</td>\n",
       "      <td>NaN</td>\n",
       "      <td>Toy Story</td>\n",
       "      <td>False</td>\n",
       "      <td>7.7</td>\n",
       "      <td>5415.0</td>\n",
       "    </tr>\n",
       "    <tr>\n",
       "      <th>1</th>\n",
       "      <td>False</td>\n",
       "      <td>NaN</td>\n",
       "      <td>65000000</td>\n",
       "      <td>[{'id': 12, 'name': 'Adventure'}, {'id': 14, '...</td>\n",
       "      <td>NaN</td>\n",
       "      <td>8844</td>\n",
       "      <td>tt0113497</td>\n",
       "      <td>en</td>\n",
       "      <td>Jumanji</td>\n",
       "      <td>When siblings Judy and Peter discover an encha...</td>\n",
       "      <td>...</td>\n",
       "      <td>1995-12-15</td>\n",
       "      <td>262797249.0</td>\n",
       "      <td>104.0</td>\n",
       "      <td>[{'iso_639_1': 'en', 'name': 'English'}, {'iso...</td>\n",
       "      <td>Released</td>\n",
       "      <td>Roll the dice and unleash the excitement!</td>\n",
       "      <td>Jumanji</td>\n",
       "      <td>False</td>\n",
       "      <td>6.9</td>\n",
       "      <td>2413.0</td>\n",
       "    </tr>\n",
       "    <tr>\n",
       "      <th>2</th>\n",
       "      <td>False</td>\n",
       "      <td>{'id': 645, 'name': 'James Bond Collection', '...</td>\n",
       "      <td>58000000</td>\n",
       "      <td>[{'id': 12, 'name': 'Adventure'}, {'id': 28, '...</td>\n",
       "      <td>http://www.mgm.com/view/movie/757/Goldeneye/</td>\n",
       "      <td>710</td>\n",
       "      <td>tt0113189</td>\n",
       "      <td>en</td>\n",
       "      <td>GoldenEye</td>\n",
       "      <td>James Bond must unmask the mysterious head of ...</td>\n",
       "      <td>...</td>\n",
       "      <td>1995-11-16</td>\n",
       "      <td>352194034.0</td>\n",
       "      <td>130.0</td>\n",
       "      <td>[{'iso_639_1': 'en', 'name': 'English'}, {'iso...</td>\n",
       "      <td>Released</td>\n",
       "      <td>No limits. No fears. No substitutes.</td>\n",
       "      <td>GoldenEye</td>\n",
       "      <td>False</td>\n",
       "      <td>6.6</td>\n",
       "      <td>1194.0</td>\n",
       "    </tr>\n",
       "    <tr>\n",
       "      <th>3</th>\n",
       "      <td>False</td>\n",
       "      <td>NaN</td>\n",
       "      <td>3600000</td>\n",
       "      <td>[{'id': 18, 'name': 'Drama'}, {'id': 10749, 'n...</td>\n",
       "      <td>http://www.mgm.com/title_title.do?title_star=L...</td>\n",
       "      <td>451</td>\n",
       "      <td>tt0113627</td>\n",
       "      <td>en</td>\n",
       "      <td>Leaving Las Vegas</td>\n",
       "      <td>Ben Sanderson, an alcoholic Hollywood screenwr...</td>\n",
       "      <td>...</td>\n",
       "      <td>1995-10-27</td>\n",
       "      <td>49800000.0</td>\n",
       "      <td>112.0</td>\n",
       "      <td>[{'iso_639_1': 'en', 'name': 'English'}]</td>\n",
       "      <td>Released</td>\n",
       "      <td>I Love You... The Way You Are.</td>\n",
       "      <td>Leaving Las Vegas</td>\n",
       "      <td>False</td>\n",
       "      <td>7.1</td>\n",
       "      <td>365.0</td>\n",
       "    </tr>\n",
       "    <tr>\n",
       "      <th>4</th>\n",
       "      <td>False</td>\n",
       "      <td>NaN</td>\n",
       "      <td>29500000</td>\n",
       "      <td>[{'id': 878, 'name': 'Science Fiction'}, {'id'...</td>\n",
       "      <td>NaN</td>\n",
       "      <td>63</td>\n",
       "      <td>tt0114746</td>\n",
       "      <td>en</td>\n",
       "      <td>Twelve Monkeys</td>\n",
       "      <td>In the year 2035, convict James Cole reluctant...</td>\n",
       "      <td>...</td>\n",
       "      <td>1995-12-29</td>\n",
       "      <td>168840000.0</td>\n",
       "      <td>129.0</td>\n",
       "      <td>[{'iso_639_1': 'en', 'name': 'English'}, {'iso...</td>\n",
       "      <td>Released</td>\n",
       "      <td>The future is history.</td>\n",
       "      <td>Twelve Monkeys</td>\n",
       "      <td>False</td>\n",
       "      <td>7.4</td>\n",
       "      <td>2470.0</td>\n",
       "    </tr>\n",
       "  </tbody>\n",
       "</table>\n",
       "<p>5 rows × 24 columns</p>\n",
       "</div>"
      ],
      "text/plain": [
       "   adult                              belongs_to_collection    budget  \\\n",
       "0  False  {'id': 10194, 'name': 'Toy Story Collection', ...  30000000   \n",
       "1  False                                                NaN  65000000   \n",
       "2  False  {'id': 645, 'name': 'James Bond Collection', '...  58000000   \n",
       "3  False                                                NaN   3600000   \n",
       "4  False                                                NaN  29500000   \n",
       "\n",
       "                                              genres  \\\n",
       "0  [{'id': 16, 'name': 'Animation'}, {'id': 35, '...   \n",
       "1  [{'id': 12, 'name': 'Adventure'}, {'id': 14, '...   \n",
       "2  [{'id': 12, 'name': 'Adventure'}, {'id': 28, '...   \n",
       "3  [{'id': 18, 'name': 'Drama'}, {'id': 10749, 'n...   \n",
       "4  [{'id': 878, 'name': 'Science Fiction'}, {'id'...   \n",
       "\n",
       "                                            homepage    id    imdb_id  \\\n",
       "0               http://toystory.disney.com/toy-story   862  tt0114709   \n",
       "1                                                NaN  8844  tt0113497   \n",
       "2       http://www.mgm.com/view/movie/757/Goldeneye/   710  tt0113189   \n",
       "3  http://www.mgm.com/title_title.do?title_star=L...   451  tt0113627   \n",
       "4                                                NaN    63  tt0114746   \n",
       "\n",
       "  original_language     original_title  \\\n",
       "0                en          Toy Story   \n",
       "1                en            Jumanji   \n",
       "2                en          GoldenEye   \n",
       "3                en  Leaving Las Vegas   \n",
       "4                en     Twelve Monkeys   \n",
       "\n",
       "                                            overview  ...  release_date  \\\n",
       "0  Led by Woody, Andy's toys live happily in his ...  ...    1995-10-30   \n",
       "1  When siblings Judy and Peter discover an encha...  ...    1995-12-15   \n",
       "2  James Bond must unmask the mysterious head of ...  ...    1995-11-16   \n",
       "3  Ben Sanderson, an alcoholic Hollywood screenwr...  ...    1995-10-27   \n",
       "4  In the year 2035, convict James Cole reluctant...  ...    1995-12-29   \n",
       "\n",
       "       revenue runtime                                   spoken_languages  \\\n",
       "0  373554033.0    81.0           [{'iso_639_1': 'en', 'name': 'English'}]   \n",
       "1  262797249.0   104.0  [{'iso_639_1': 'en', 'name': 'English'}, {'iso...   \n",
       "2  352194034.0   130.0  [{'iso_639_1': 'en', 'name': 'English'}, {'iso...   \n",
       "3   49800000.0   112.0           [{'iso_639_1': 'en', 'name': 'English'}]   \n",
       "4  168840000.0   129.0  [{'iso_639_1': 'en', 'name': 'English'}, {'iso...   \n",
       "\n",
       "     status                                    tagline              title  \\\n",
       "0  Released                                        NaN          Toy Story   \n",
       "1  Released  Roll the dice and unleash the excitement!            Jumanji   \n",
       "2  Released       No limits. No fears. No substitutes.          GoldenEye   \n",
       "3  Released             I Love You... The Way You Are.  Leaving Las Vegas   \n",
       "4  Released                     The future is history.     Twelve Monkeys   \n",
       "\n",
       "   video vote_average vote_count  \n",
       "0  False          7.7     5415.0  \n",
       "1  False          6.9     2413.0  \n",
       "2  False          6.6     1194.0  \n",
       "3  False          7.1      365.0  \n",
       "4  False          7.4     2470.0  \n",
       "\n",
       "[5 rows x 24 columns]"
      ]
     },
     "execution_count": 8,
     "metadata": {},
     "output_type": "execute_result"
    }
   ],
   "source": [
    "metadata_df.head()"
   ]
  },
  {
   "cell_type": "markdown",
   "metadata": {},
   "source": [
    "## Movie Subtitle  Language Distributions"
   ]
  },
  {
   "cell_type": "code",
   "execution_count": 9,
   "metadata": {
    "tags": []
   },
   "outputs": [],
   "source": [
    "%matplotlib inline"
   ]
  },
  {
   "cell_type": "code",
   "execution_count": 10,
   "metadata": {
    "tags": []
   },
   "outputs": [
    {
     "data": {
      "text/plain": [
       "<matplotlib.axes._subplots.AxesSubplot at 0x7fa3de8ba450>"
      ]
     },
     "execution_count": 10,
     "metadata": {},
     "output_type": "execute_result"
    },
    {
     "data": {
      "image/png": "[encoded data removed]",
      "text/plain": [
       "<Figure size 1500x500 with 1 Axes>"
      ]
     },
     "metadata": {},
     "output_type": "display_data"
    }
   ],
   "source": [
    "metadata_df['original_language'].value_counts().plot(kind='bar', figsize=(15, 5), title=\"Distribution of languages\" )"
   ]
  },
  {
   "cell_type": "markdown",
   "metadata": {},
   "source": [
    "# Movie Genre Distribution Analysis"
   ]
  },
  {
   "cell_type": "code",
   "execution_count": 11,
   "metadata": {
    "tags": []
   },
   "outputs": [
    {
     "name": "stdout",
     "output_type": "stream",
     "text": [
      "All genres detected in the metadata: {'Fantasy', 'History', 'Western', 'Adventure', 'Animation', 'Documentary', 'Science Fiction', 'War', 'Crime', 'Action', 'Drama', 'Romance', 'Family', 'Comedy', 'Music', 'TV Movie', 'Horror', 'Thriller', 'Foreign', 'Mystery'}\n"
     ]
    }
   ],
   "source": [
    "import json\n",
    "metadata_df['genres_dict'] =metadata_df['genres'].map(lambda x: x.replace(\"'\", '\"')).map(lambda x: json.loads(x))\n",
    "genres_list_df = metadata_df['genres'].map(lambda x: x.replace(\"'\", '\"')).map(lambda x: json.loads(x))\n",
    "genres_list = genres_list_df.values\n",
    "all_genres = set([ y['name'] for genres in genres_list for y in genres])\n",
    "print(f\"All genres detected in the metadata: {all_genres}\")"
   ]
  },
  {
   "cell_type": "code",
   "execution_count": 12,
   "metadata": {
    "tags": []
   },
   "outputs": [],
   "source": [
    "for genre in all_genres:\n",
    "    metadata_df[genre] = metadata_df['genres_dict'].apply(lambda x: 1 if genre in [ y['name'] for y in x ] else 0)"
   ]
  },
  {
   "cell_type": "code",
   "execution_count": 13,
   "metadata": {
    "tags": []
   },
   "outputs": [
    {
     "data": {
      "text/plain": [
       "<matplotlib.axes._subplots.AxesSubplot at 0x7fa3a6054290>"
      ]
     },
     "execution_count": 13,
     "metadata": {},
     "output_type": "execute_result"
    },
    {
     "data": {
      "image/png": "[encoded data removed]",
      "text/plain": [
       "<Figure size 1000x500 with 1 Axes>"
      ]
     },
     "metadata": {},
     "output_type": "display_data"
    }
   ],
   "source": [
    "metadata_df[all_genres].sum().plot(kind='bar', title=\"Distribution of genres\", figsize=(10,5))"
   ]
  },
  {
   "cell_type": "markdown",
   "metadata": {},
   "source": [
    "# Prepare Movie Subtitles Dataset\n",
    "\n",
    "1. concatenate all subtitles for each into a row in a table in pandas dataframe.\n",
    "2. Saves the table into a CSV file."
   ]
  },
  {
   "cell_type": "code",
   "execution_count": 14,
   "metadata": {
    "tags": []
   },
   "outputs": [
    {
     "data": {
      "text/html": [
       "<div>\n",
       "<style scoped>\n",
       "    .dataframe tbody tr th:only-of-type {\n",
       "        vertical-align: middle;\n",
       "    }\n",
       "\n",
       "    .dataframe tbody tr th {\n",
       "        vertical-align: top;\n",
       "    }\n",
       "\n",
       "    .dataframe thead th {\n",
       "        text-align: right;\n",
       "    }\n",
       "</style>\n",
       "<table border=\"1\" class=\"dataframe\">\n",
       "  <thead>\n",
       "    <tr style=\"text-align: right;\">\n",
       "      <th></th>\n",
       "      <th>imdb_id</th>\n",
       "      <th>text</th>\n",
       "    </tr>\n",
       "  </thead>\n",
       "  <tbody>\n",
       "    <tr>\n",
       "      <th>0</th>\n",
       "      <td>tt0002130</td>\n",
       "      <td>[Downloaded from\\nYTS.MX, Official YIFY movies...</td>\n",
       "    </tr>\n",
       "    <tr>\n",
       "      <th>1</th>\n",
       "      <td>tt0005044</td>\n",
       "      <td>[I smell fish., You might wanna take\\nyour hee...</td>\n",
       "    </tr>\n",
       "    <tr>\n",
       "      <th>2</th>\n",
       "      <td>tt0005059</td>\n",
       "      <td>[&lt;i&gt;And all I have to do today&lt;/i&gt;, &lt;i&gt;Is get ...</td>\n",
       "    </tr>\n",
       "    <tr>\n",
       "      <th>3</th>\n",
       "      <td>tt0005060</td>\n",
       "      <td>[Τhis film was shot, on location in Αndalucia,...</td>\n",
       "    </tr>\n",
       "    <tr>\n",
       "      <th>4</th>\n",
       "      <td>tt0007338</td>\n",
       "      <td>[Head caught to the left., Partial deafness in...</td>\n",
       "    </tr>\n",
       "  </tbody>\n",
       "</table>\n",
       "</div>"
      ],
      "text/plain": [
       "     imdb_id                                               text\n",
       "0  tt0002130  [Downloaded from\\nYTS.MX, Official YIFY movies...\n",
       "1  tt0005044  [I smell fish., You might wanna take\\nyour hee...\n",
       "2  tt0005059  [<i>And all I have to do today</i>, <i>Is get ...\n",
       "3  tt0005060  [Τhis film was shot, on location in Αndalucia,...\n",
       "4  tt0007338  [Head caught to the left., Partial deafness in..."
      ]
     },
     "execution_count": 14,
     "metadata": {},
     "output_type": "execute_result"
    }
   ],
   "source": [
    "grouped_df = srt_df.groupby(by=['imdb_id'])['text'].apply(list)\n",
    "grouped_df = grouped_df.reset_index()\n",
    "grouped_df.head()"
   ]
  },
  {
   "cell_type": "code",
   "execution_count": 15,
   "metadata": {
    "tags": []
   },
   "outputs": [],
   "source": [
    "os.makedirs(\"files\", exist_ok = True)\n",
    "for index, row in grouped_df.iterrows():\n",
    "    imdb_id, text_list = row['imdb_id'], row['text']\n",
    "    text = ''.join([str(x) for x in text_list[2:]]) # delete the first 2 lines as they come in as headings\n",
    "    \n",
    "    with open(f\"files/{imdb_id}.txt\", \"w\") as f:\n",
    "        f.write(text)"
   ]
  },
  {
   "cell_type": "markdown",
   "metadata": {},
   "source": [
    "## Amazon Comprehend Document Processing Modes\n",
    "Amazon Comprehend supports three document processing modes:\n",
    "\n",
    "* Single-document synchronous – You call Amazon Comprehend with a single document and receive a synchronous response, delivered to your application (or the console) right away.\n",
    "\n",
    "* Multi-document synchronous – You call the Amazon Comprehend API with a collection of up to 25 documents and receive a synchronous response.\n",
    "\n",
    "* Asynchronous batch – For a large collection of documents, put the documents into an Amazon S3 bucket and start an asynchronous job (using console or API operations) to analyze the documents. Amazon Comprehend stores the results of the analysis in the S3 bucket/folder that you specify in the request."
   ]
  },
  {
   "cell_type": "markdown",
   "metadata": {},
   "source": [
    "# Working With  Amazon Comprehend\n",
    "The following section walks through how you could gather some insights from the given movie subtitles and metadata using Machine Learning service Amazon Comprehend.\n",
    "Specfically, we would like to use Comprehend to perform the following tasks: \n",
    "    \n",
    "1. Automatically group movies into topics based on the provided subtitles.\n",
    "2. Train a custom classfier, deploy an endpoint and perform inference to predict the move genre based on the input movie subtitles.\n",
    "3. Perform Sentiment Analysis and Targeted Sentiment Analysis on the movie overview data\n",
    "4. Performs Key Phrases detection on the moview overview data"
   ]
  },
  {
   "cell_type": "markdown",
   "metadata": {},
   "source": [
    "# Create A Topic Modeling job\n",
    "You can use Amazon Comprehend to examine the content of a collection of documents to determine common themes. For example, you can give Amazon Comprehend a collection of news articles, and it will determine the subjects, such as sports, politics, or entertainment. The text in the documents doesn't need to be annotated.\n",
    "\n",
    "Amazon Comprehend uses a Latent dirichlet allocation-based learning model to determine the topics in a set of documents. It examines each document to determine the context and meaning of a word. The set of words that frequently belong to the same context across the entire document set make up a topic."
   ]
  },
  {
   "cell_type": "code",
   "execution_count": 17,
   "metadata": {
    "tags": []
   },
   "outputs": [],
   "source": [
    "import boto3\n",
    "import json\n",
    "from bson import json_util\n",
    "import sagemaker\n",
    "from os import listdir"
   ]
  },
  {
   "cell_type": "code",
   "execution_count": 18,
   "metadata": {
    "tags": []
   },
   "outputs": [],
   "source": [
    "session = sagemaker.session.Session()\n",
    "default_bucket = session.default_bucket()\n",
    "s3_document_upload_prefix = \"data/comprehend/subtitles\" \n",
    "comprehend = boto3.client('comprehend')\n",
    "s3_document_topic_modeling_output_prefix = \"data/comprehend/subtitles-topic-modeling-output\"\n",
    "input_s3_url = f\"s3://{default_bucket}/{s3_document_upload_prefix}\"\n",
    "input_doc_format = \"ONE_DOC_PER_FILE\"\n",
    "output_s3_url = f\"s3://{default_bucket}/{s3_document_topic_modeling_output_prefix}\"\n",
    "data_access_role_arn = \"arn:aws:iam::602900100639:role/AmazonComprehendDefaultRole\"\n",
    "s3 = boto3.client('s3')"
   ]
  },
  {
   "cell_type": "markdown",
   "metadata": {},
   "source": [
    "# Upload files to S3\n",
    "Essentially we are going to iterate through all the files and invoke boto3 library function to upload to S3."
   ]
  },
  {
   "cell_type": "code",
   "execution_count": 19,
   "metadata": {
    "tags": []
   },
   "outputs": [],
   "source": [
    "import glob\n",
    "\n",
    "for file in glob.glob(os.path.join(\"files\", '*.txt')):\n",
    "    with open(file, \"rb\") as f:\n",
    "        s3.upload_fileobj(f, default_bucket, os.path.join(s3_document_upload_prefix, os.path.basename(file)))"
   ]
  },
  {
   "cell_type": "code",
   "execution_count": 19,
   "metadata": {},
   "outputs": [],
   "source": [
    "# We need to provide a number of topics as one of the prarameters to Topic Modeling job. For demo purposes, we will use the same number of unique genres recorded in the \n",
    "# metadata file as the number of topics.\n",
    "number_of_topics = len(all_genres)"
   ]
  },
  {
   "cell_type": "code",
   "execution_count": 20,
   "metadata": {},
   "outputs": [],
   "source": [
    "from datetime import datetime\n",
    "\n",
    "input_data_config = {\"S3Uri\": input_s3_url, \"InputFormat\": input_doc_format}\n",
    "output_data_config = {\"S3Uri\": output_s3_url}\n",
    "now = datetime.now()\n",
    "job_name = f\"MovieSubtitleTopicModelingJob-{now.strftime('%Y%m%d%H%M%S')}\"\n",
    "start_topics_detection_job_result = comprehend.start_topics_detection_job(NumberOfTopics=number_of_topics,\n",
    "                                                                          InputDataConfig=input_data_config,\n",
    "                                                                          OutputDataConfig=output_data_config,\n",
    "                                                                          DataAccessRoleArn=data_access_role_arn,\n",
    "                                                                          JobName=job_name)"
   ]
  },
  {
   "cell_type": "code",
   "execution_count": 42,
   "metadata": {},
   "outputs": [
    {
     "name": "stdout",
     "output_type": "stream",
     "text": [
      "start_topics_detection_job_result: {\"JobId\": \"33f646286d3453ab5d5c80347f5ceecb\", \"JobArn\": \"arn:aws:comprehend:us-east-2:869530972998:topics-detection-job/33f646286d3453ab5d5c80347f5ceecb\", \"JobStatus\": \"SUBMITTED\", \"ResponseMetadata\": {\"RequestId\": \"49336c48-f309-4246-8064-6318d880f333\", \"HTTPStatusCode\": 200, \"HTTPHeaders\": {\"x-amzn-requestid\": \"49336c48-f309-4246-8064-6318d880f333\", \"content-type\": \"application/x-amz-json-1.1\", \"content-length\": \"175\", \"date\": \"Tue, 10 Jan 2023 16:28:54 GMT\"}, \"RetryAttempts\": 0}}\n",
      "job_id: 33f646286d3453ab5d5c80347f5ceecb\n",
      "describe_topics_detection_job_result: {\"TopicsDetectionJobProperties\": {\"JobId\": \"33f646286d3453ab5d5c80347f5ceecb\", \"JobArn\": \"arn:aws:comprehend:us-east-2:869530972998:topics-detection-job/33f646286d3453ab5d5c80347f5ceecb\", \"JobName\": \"MovieSubtitleTopicModelingJob\", \"JobStatus\": \"IN_PROGRESS\", \"SubmitTime\": {\"$date\": \"2023-01-10T16:28:54.382Z\"}, \"InputDataConfig\": {\"S3Uri\": \"s3://sagemaker-us-east-2-869530972998/data/comprehend/subtitles\", \"InputFormat\": \"ONE_DOC_PER_FILE\"}, \"OutputDataConfig\": {\"S3Uri\": \"s3://sagemaker-us-east-2-869530972998/data/comprehend/subtitles-topic-modeling-output/869530972998-TOPICS-33f646286d3453ab5d5c80347f5ceecb/output/output.tar.gz\"}, \"NumberOfTopics\": 20, \"DataAccessRoleArn\": \"arn:aws:iam::869530972998:role/service-role/AmazonComprehendServiceRole-default\"}, \"ResponseMetadata\": {\"RequestId\": \"d098955a-58b9-4e49-979c-f149fa15c166\", \"HTTPStatusCode\": 200, \"HTTPHeaders\": {\"x-amzn-requestid\": \"d098955a-58b9-4e49-979c-f149fa15c166\", \"content-type\": \"application/x-amz-json-1.1\", \"content-length\": \"722\", \"date\": \"Tue, 10 Jan 2023 16:29:59 GMT\"}, \"RetryAttempts\": 0}}\n",
      "list_topics_detection_jobs_result: {\"TopicsDetectionJobPropertiesList\": [{\"JobId\": \"b8f5577f62651966fe3eca7e845e0e1d\", \"JobArn\": \"arn:aws:comprehend:us-east-2:869530972998:topics-detection-job/b8f5577f62651966fe3eca7e845e0e1d\", \"JobStatus\": \"COMPLETED\", \"SubmitTime\": {\"$date\": \"2022-12-02T22:34:23.136Z\"}, \"EndTime\": {\"$date\": \"2022-12-02T23:04:36.110Z\"}, \"InputDataConfig\": {\"S3Uri\": \"s3://sagemaker-us-east-2-869530972998/data/comprehend/subtitles\", \"InputFormat\": \"ONE_DOC_PER_FILE\"}, \"OutputDataConfig\": {\"S3Uri\": \"s3://sagemaker-us-east-2-869530972998/data/comprehend/subtitles-topic-modeling-output/869530972998-TOPICS-b8f5577f62651966fe3eca7e845e0e1d/output/output.tar.gz\"}, \"NumberOfTopics\": 20, \"DataAccessRoleArn\": \"arn:aws:iam::869530972998:role/service-role/AmazonComprehendServiceRole-default\"}, {\"JobId\": \"faff9862046d8fdc442e6d1aa9643441\", \"JobArn\": \"arn:aws:comprehend:us-east-2:869530972998:topics-detection-job/faff9862046d8fdc442e6d1aa9643441\", \"JobName\": \"MovieSubtitleTopicModelingJob\", \"JobStatus\": \"FAILED\", \"Message\": \"UNSUPPORTED_ENCODING: Input files expected to be encoded in UTF-8. 7baf495c-f334-49c8-9b70-e58cfa69d753 is not in UTF-8 encoding. Found 1 file(s) not encoded in UTF-8., exit code: 0\", \"SubmitTime\": {\"$date\": \"2022-12-05T17:27:18.923Z\"}, \"EndTime\": {\"$date\": \"2022-12-05T17:33:38.868Z\"}, \"InputDataConfig\": {\"S3Uri\": \"s3://sagemaker-us-east-2-869530972998/data/comprehend/subtitles\", \"InputFormat\": \"ONE_DOC_PER_FILE\"}, \"OutputDataConfig\": {\"S3Uri\": \"s3://sagemaker-us-east-2-869530972998/data/comprehend/subtitles-topic-modeling-output/869530972998-TOPICS-faff9862046d8fdc442e6d1aa9643441/output/output.tar.gz\"}, \"NumberOfTopics\": 20, \"DataAccessRoleArn\": \"arn:aws:iam::869530972998:role/service-role/AmazonComprehendServiceRole-default\"}, {\"JobId\": \"8a94cf3377061b9d3bb4810dda3ae3ca\", \"JobArn\": \"arn:aws:comprehend:us-east-2:869530972998:topics-detection-job/8a94cf3377061b9d3bb4810dda3ae3ca\", \"JobName\": \"MovieSubtitleTopicModelingJob\", \"JobStatus\": \"IN_PROGRESS\", \"SubmitTime\": {\"$date\": \"2023-01-10T16:26:12.689Z\"}, \"InputDataConfig\": {\"S3Uri\": \"s3://sagemaker-us-east-2-869530972998/data/comprehend/subtitles\", \"InputFormat\": \"ONE_DOC_PER_FILE\"}, \"OutputDataConfig\": {\"S3Uri\": \"s3://sagemaker-us-east-2-869530972998/data/comprehend/subtitles-topic-modeling-output/869530972998-TOPICS-8a94cf3377061b9d3bb4810dda3ae3ca/output/output.tar.gz\"}, \"NumberOfTopics\": 20, \"DataAccessRoleArn\": \"arn:aws:iam::869530972998:role/service-role/AmazonComprehendServiceRole-default\"}, {\"JobId\": \"33f646286d3453ab5d5c80347f5ceecb\", \"JobArn\": \"arn:aws:comprehend:us-east-2:869530972998:topics-detection-job/33f646286d3453ab5d5c80347f5ceecb\", \"JobName\": \"MovieSubtitleTopicModelingJob\", \"JobStatus\": \"IN_PROGRESS\", \"SubmitTime\": {\"$date\": \"2023-01-10T16:28:54.382Z\"}, \"InputDataConfig\": {\"S3Uri\": \"s3://sagemaker-us-east-2-869530972998/data/comprehend/subtitles\", \"InputFormat\": \"ONE_DOC_PER_FILE\"}, \"OutputDataConfig\": {\"S3Uri\": \"s3://sagemaker-us-east-2-869530972998/data/comprehend/subtitles-topic-modeling-output/869530972998-TOPICS-33f646286d3453ab5d5c80347f5ceecb/output/output.tar.gz\"}, \"NumberOfTopics\": 20, \"DataAccessRoleArn\": \"arn:aws:iam::869530972998:role/service-role/AmazonComprehendServiceRole-default\"}], \"ResponseMetadata\": {\"RequestId\": \"1ff53dfc-b67e-47d3-ac0a-bda6b8671d1c\", \"HTTPStatusCode\": 200, \"HTTPHeaders\": {\"x-amzn-requestid\": \"1ff53dfc-b67e-47d3-ac0a-bda6b8671d1c\", \"content-type\": \"application/x-amz-json-1.1\", \"content-length\": \"2996\", \"date\": \"Tue, 10 Jan 2023 16:29:59 GMT\"}, \"RetryAttempts\": 0}}\n"
     ]
    }
   ],
   "source": [
    "print('start_topics_detection_job_result: ' + json.dumps(start_topics_detection_job_result))\n",
    "job_id = start_topics_detection_job_result[\"JobId\"]\n",
    "print('job_id: ' + job_id)\n",
    "describe_topics_detection_job_result = comprehend.describe_topics_detection_job(JobId=job_id)\n",
    "print('describe_topics_detection_job_result: ' + json.dumps(describe_topics_detection_job_result, default=json_util.default))\n",
    "list_topics_detection_jobs_result = comprehend.list_topics_detection_jobs()\n",
    "print('list_topics_detection_jobs_result: ' + json.dumps(list_topics_detection_jobs_result, default=json_util.default))"
   ]
  },
  {
   "cell_type": "code",
   "execution_count": 43,
   "metadata": {},
   "outputs": [],
   "source": [
    "job_id = \"b8f5577f62651966fe3eca7e845e0e1d\""
   ]
  },
  {
   "cell_type": "code",
   "execution_count": 44,
   "metadata": {},
   "outputs": [
    {
     "name": "stdout",
     "output_type": "stream",
     "text": [
      "job is stopped with status: COMPLETED\n",
      "job output: s3://sagemaker-us-east-2-869530972998/data/comprehend/subtitles-topic-modeling-output/869530972998-TOPICS-b8f5577f62651966fe3eca7e845e0e1d/output/output.tar.gz\n"
     ]
    }
   ],
   "source": [
    "import time\n",
    "while True:\n",
    "    describe_topics_detection_job_result = comprehend.describe_topics_detection_job(JobId=job_id)\n",
    "    status = describe_topics_detection_job_result['TopicsDetectionJobProperties']['JobStatus']\n",
    "    if status.lower() in ['completed', 'failed', 'stop_requested', 'stopped']:\n",
    "        print(f\"job is stopped with status: {status}\")  \n",
    "        print(f\"job output: {describe_topics_detection_job_result['TopicsDetectionJobProperties']['OutputDataConfig']['S3Uri']}\")\n",
    "        break\n",
    "    print(f\"job status: {status}\")\n",
    "    time.sleep(5)\n"
   ]
  },
  {
   "attachments": {
    "image.png": {
     "image/png": "[encoded data removed]"
    }
   },
   "cell_type": "markdown",
   "metadata": {},
   "source": [
    "# Analyze Topics From the Topic Modeling Job\n",
    "\n",
    "After Amazon Comprehend processes your document collection, it returns a compressed archive containing two files, topic-terms.csv and doc-topics.csv.\n",
    "\n",
    "The first output file, topic-terms.csv, is a list of topics in the collection. For each topic, the list includes, by default, the top terms by topic according to their weight. For example, if you give Amazon Comprehend a collection of newspaper articles, it might return the following to describe the first two topics in the collection\n",
    "\n",
    "![image.png](imgs/topic-terms-example.png)\n",
    "\n",
    "The second file, doc-topics.csv, lists the documents associated with a topic and the proportion of the document that is concerned with the topic. If you specified \n",
    "For example, Amazon Comprehend might return the following for a collection of documents submitted with one document per file:\n",
    "\n",
    "![image.png](imgs/doc-topic-example.png)"
   ]
  },
  {
   "cell_type": "code",
   "execution_count": 45,
   "metadata": {},
   "outputs": [],
   "source": [
    "topics_df = pd.read_csv(\"results/topic_modeling/doc-topics.csv\")"
   ]
  },
  {
   "cell_type": "code",
   "execution_count": 46,
   "metadata": {},
   "outputs": [
    {
     "data": {
      "text/html": [
       "<div>\n",
       "<style scoped>\n",
       "    .dataframe tbody tr th:only-of-type {\n",
       "        vertical-align: middle;\n",
       "    }\n",
       "\n",
       "    .dataframe tbody tr th {\n",
       "        vertical-align: top;\n",
       "    }\n",
       "\n",
       "    .dataframe thead th {\n",
       "        text-align: right;\n",
       "    }\n",
       "</style>\n",
       "<table border=\"1\" class=\"dataframe\">\n",
       "  <thead>\n",
       "    <tr style=\"text-align: right;\">\n",
       "      <th></th>\n",
       "      <th>docname</th>\n",
       "      <th>topic</th>\n",
       "      <th>proportion</th>\n",
       "    </tr>\n",
       "  </thead>\n",
       "  <tbody>\n",
       "    <tr>\n",
       "      <th>0</th>\n",
       "      <td>tt0131646.txt</td>\n",
       "      <td>0</td>\n",
       "      <td>0.454020</td>\n",
       "    </tr>\n",
       "    <tr>\n",
       "      <th>1</th>\n",
       "      <td>tt0131646.txt</td>\n",
       "      <td>4</td>\n",
       "      <td>0.398444</td>\n",
       "    </tr>\n",
       "    <tr>\n",
       "      <th>2</th>\n",
       "      <td>tt0131646.txt</td>\n",
       "      <td>11</td>\n",
       "      <td>0.079688</td>\n",
       "    </tr>\n",
       "    <tr>\n",
       "      <th>3</th>\n",
       "      <td>tt0131646.txt</td>\n",
       "      <td>3</td>\n",
       "      <td>0.067847</td>\n",
       "    </tr>\n",
       "    <tr>\n",
       "      <th>4</th>\n",
       "      <td>tt0972785.txt</td>\n",
       "      <td>0</td>\n",
       "      <td>0.952213</td>\n",
       "    </tr>\n",
       "  </tbody>\n",
       "</table>\n",
       "</div>"
      ],
      "text/plain": [
       "         docname  topic  proportion\n",
       "0  tt0131646.txt      0    0.454020\n",
       "1  tt0131646.txt      4    0.398444\n",
       "2  tt0131646.txt     11    0.079688\n",
       "3  tt0131646.txt      3    0.067847\n",
       "4  tt0972785.txt      0    0.952213"
      ]
     },
     "execution_count": 46,
     "metadata": {},
     "output_type": "execute_result"
    }
   ],
   "source": [
    "topics_df.head()"
   ]
  },
  {
   "cell_type": "code",
   "execution_count": 47,
   "metadata": {},
   "outputs": [],
   "source": [
    "topic_term_df = pd.read_csv(\"results/topic_modeling/topic-terms.csv\")"
   ]
  },
  {
   "cell_type": "code",
   "execution_count": 55,
   "metadata": {},
   "outputs": [
    {
     "data": {
      "text/html": [
       "<div>\n",
       "<style scoped>\n",
       "    .dataframe tbody tr th:only-of-type {\n",
       "        vertical-align: middle;\n",
       "    }\n",
       "\n",
       "    .dataframe tbody tr th {\n",
       "        vertical-align: top;\n",
       "    }\n",
       "\n",
       "    .dataframe thead th {\n",
       "        text-align: right;\n",
       "    }\n",
       "</style>\n",
       "<table border=\"1\" class=\"dataframe\">\n",
       "  <thead>\n",
       "    <tr style=\"text-align: right;\">\n",
       "      <th></th>\n",
       "      <th>topic</th>\n",
       "      <th>term</th>\n",
       "      <th>weight</th>\n",
       "    </tr>\n",
       "  </thead>\n",
       "  <tbody>\n",
       "    <tr>\n",
       "      <th>0</th>\n",
       "      <td>0</td>\n",
       "      <td>gonna</td>\n",
       "      <td>0.017092</td>\n",
       "    </tr>\n",
       "    <tr>\n",
       "      <th>1</th>\n",
       "      <td>0</td>\n",
       "      <td>hey</td>\n",
       "      <td>0.008463</td>\n",
       "    </tr>\n",
       "    <tr>\n",
       "      <th>2</th>\n",
       "      <td>0</td>\n",
       "      <td>back</td>\n",
       "      <td>0.007481</td>\n",
       "    </tr>\n",
       "    <tr>\n",
       "      <th>3</th>\n",
       "      <td>0</td>\n",
       "      <td>make</td>\n",
       "      <td>0.007225</td>\n",
       "    </tr>\n",
       "    <tr>\n",
       "      <th>4</th>\n",
       "      <td>0</td>\n",
       "      <td>yes</td>\n",
       "      <td>0.012454</td>\n",
       "    </tr>\n",
       "    <tr>\n",
       "      <th>5</th>\n",
       "      <td>0</td>\n",
       "      <td>good</td>\n",
       "      <td>0.007404</td>\n",
       "    </tr>\n",
       "    <tr>\n",
       "      <th>6</th>\n",
       "      <td>0</td>\n",
       "      <td>guy</td>\n",
       "      <td>0.006129</td>\n",
       "    </tr>\n",
       "    <tr>\n",
       "      <th>7</th>\n",
       "      <td>0</td>\n",
       "      <td>thing</td>\n",
       "      <td>0.004943</td>\n",
       "    </tr>\n",
       "    <tr>\n",
       "      <th>8</th>\n",
       "      <td>0</td>\n",
       "      <td>gotta</td>\n",
       "      <td>0.004104</td>\n",
       "    </tr>\n",
       "    <tr>\n",
       "      <th>9</th>\n",
       "      <td>0</td>\n",
       "      <td>time</td>\n",
       "      <td>0.005305</td>\n",
       "    </tr>\n",
       "  </tbody>\n",
       "</table>\n",
       "</div>"
      ],
      "text/plain": [
       "   topic   term    weight\n",
       "0      0  gonna  0.017092\n",
       "1      0    hey  0.008463\n",
       "2      0   back  0.007481\n",
       "3      0   make  0.007225\n",
       "4      0    yes  0.012454\n",
       "5      0   good  0.007404\n",
       "6      0    guy  0.006129\n",
       "7      0  thing  0.004943\n",
       "8      0  gotta  0.004104\n",
       "9      0   time  0.005305"
      ]
     },
     "execution_count": 55,
     "metadata": {},
     "output_type": "execute_result"
    }
   ],
   "source": [
    "topic_term_df[ topic_term_df['topic'] == 0]"
   ]
  },
  {
   "cell_type": "markdown",
   "metadata": {},
   "source": [
    "### As part of the analysis, we would like to see the top 5 movies that are grouped into a topic. "
   ]
  },
  {
   "cell_type": "code",
   "execution_count": 56,
   "metadata": {},
   "outputs": [
    {
     "name": "stdout",
     "output_type": "stream",
     "text": [
      "topic: 0, top movies: ['Fantasma', 'Beneath', 'Zathura: A Space Adventure', 'Locked In', 'Runner Runner']\n",
      "topic: 4, top movies: ['Layer Cake', 'Inferno', 'The Descent', 'Miracle at St. Anna', 'The Guest']\n",
      "topic: 11, top movies: ['Un chien andalou', 'The Book of Life', 'The Book of Life', 'El Topo', 'Clear and Present Danger']\n",
      "topic: 3, top movies: ['The Mummy', 'The Mummy', 'The Mummy', 'The Rundown', 'Caged Heat']\n",
      "topic: 2, top movies: ['While the City Sleeps', 'Paris by Night of the Living Dead', 'While the City Sleeps', 'The Messiah', 'The Sheik']\n",
      "topic: 13, top movies: [\"Red's Dream\", 'Paperman', 'Comedy Central Roast of Denis Leary', 'The Pact II', 'The Sinful Dwarf']\n",
      "topic: 1, top movies: ['All About the Benjamins', 'The Mighty Angel', 'Phantom Halo', 'Ransom', 'Cold in July']\n",
      "topic: 9, top movies: ['The Golden Cane Warrior', 'Guilty by Suspicion', 'The Wiz', 'Need for Speed', 'Resident Evil: Apocalypse']\n",
      "topic: 10, top movies: ['Dinner for One', 'Brutal Relax', 'Three Days', 'The Tortoise and the Hare', 'She and Her Cat: Their Standing Points']\n",
      "topic: 14, top movies: ['Electrick Children', 'The Magnificent Seven', 'The Magnificent Seven', 'Euro Trapped', 'Inglourious Basterds']\n",
      "topic: 8, top movies: ['The Avengers', 'The Avengers', 'Cirque du Soleil: Worlds Away', 'Night and Day', 'Knight and Day']\n",
      "topic: 17, top movies: ['Human Desire', 'The Adventures of André and Wally B.', 'Burton and Taylor', 'Toy Story', 'Delgo']\n",
      "topic: 5, top movies: ['Max Payne', 'Premium Rush', 'Chasing Ice', 'More', 'Judy Moody and the Not Bummer Summer']\n",
      "topic: 12, top movies: ['Sniper: Ghost Shooter', 'Origin', 'April 9th', 'Prevenge', 'The Butterfly Effect 2']\n",
      "topic: 6, top movies: ['xXx: Return of Xander Cage', 'Microcosmos', 'Captain EO', 'The Divine Woman', 'Eden']\n",
      "topic: 19, top movies: ['Knick Knack', 'Marmaduke', 'Ernest Goes to Jail', 'Loving Annabelle']\n",
      "topic: 7, top movies: ['Furious 7', 'Blood and Chocolate', 'Night Catches Us', 'Rabbit Hole', 'Finding Dory']\n",
      "topic: 18, top movies: ['30 Days of Night: Dark Days', 'Queen', 'Forbidden Zone', 'Elizabeth', 'Princes and Princesses']\n",
      "topic: 15, top movies: ['Tere Naal Love Ho Gaya', 'Room 8', 'Hostage', 'Assassination Games', 'Fury']\n",
      "topic: 16, top movies: ['Blood Glacier', 'The Dark Side of the Moon', 'Los Marziano', 'Gambling City', 'Honey 2']\n"
     ]
    }
   ],
   "source": [
    "topics = topics_df['topic'].unique()\n",
    "\n",
    "for topic in topics:\n",
    "    top_movies_by_topic_df = topics_df[topics_df['topic'] == topic].sort_values(by='proportion', ascending=False)['docname'][:5].values\n",
    "    top_movies_by_topic_imdb_ids = [ x.split(\".\")[0] for x in top_movies_by_topic_df]\n",
    "    top_movies_by_topic = []\n",
    "    for imdb_id in top_movies_by_topic_imdb_ids:\n",
    "        top_movies_by_topic.append((metadata_df[ metadata_df['imdb_id'] == imdb_id]['title'].values[0]))\n",
    "    print(f\"topic: {topic}, top movies: {top_movies_by_topic}\")    "
   ]
  },
  {
   "cell_type": "code",
   "execution_count": 57,
   "metadata": {},
   "outputs": [],
   "source": [
    "topic_terms_df = pd.read_csv(\"results/topic_modeling/topic-terms.csv\")"
   ]
  },
  {
   "cell_type": "code",
   "execution_count": 58,
   "metadata": {},
   "outputs": [
    {
     "name": "stdout",
     "output_type": "stream",
     "text": [
      "topic: 0, top 5 terms: ['gonna' 'yes' 'hey' 'back' 'good']\n",
      "topic: 4, top 5 terms: ['color' 'fefefe' 'd900d9' 'fff65b' 'trebuchet']\n",
      "topic: 11, top 5 terms: ['fefefe' 'sir' 'trebuchet' 'dddd00' 'good']\n",
      "topic: 3, top 5 terms: ['kill' 'love' 'live' 'find' 'save']\n",
      "topic: 2, top 5 terms: ['love' 'live' 'make' 'kill' 'feel']\n",
      "topic: 13, top 5 terms: ['music' 'play' 'melodious' 'continue' 'applause']\n",
      "topic: 1, top 5 terms: ['fuck' 'gonna' 'yes' 'shit' 'guy']\n",
      "topic: 9, top 5 terms: ['color' 'fefefe' 'fff65b' 'trebuchet' 'dddd00']\n",
      "topic: 10, top 5 terms: ['d900d9' 'world' 'friend' 'damn' 'pass']\n",
      "topic: 14, top 5 terms: ['speak' 'call' 'tell' 'white' 'red']\n",
      "topic: 8, top 5 terms: ['color' 'd900d9' 'narbe' 'music' 'play']\n",
      "topic: 17, top 5 terms: ['laugh' 'andré' 'grunt' 'gasp' 'buzz']\n",
      "topic: 5, top 5 terms: ['yes' 'friend' 'hey' 'wrong' 'cop']\n",
      "topic: 12, top 5 terms: ['color' 'ffff00' '80ff00' 'lieutenant' 'thing']\n",
      "topic: 6, top 5 terms: ['world' 'friend' 'big' 'damn' 'pass']\n",
      "topic: 19, top 5 terms: ['blah' 'vocalise' 'continue' 'nose' 'clang']\n",
      "topic: 7, top 5 terms: ['ms' 'comic' 'trebuchet' 'dddd00' 'hey']\n",
      "topic: 18, top 5 terms: ['queen' 'feast' 'town.only' 'knows.bleed' \"useful.there'll\"]\n",
      "topic: 15, top 5 terms: ['color' '00ff00' 'money' 'ff0000' 'uh']\n",
      "topic: 16, top 5 terms: ['color' '00ff40' 'fff65b' 'janek' '80ff00']\n"
     ]
    }
   ],
   "source": [
    "for topic in topics:\n",
    "    top_terms_by_topic_df = topic_terms_df[topic_terms_df['topic'] == topic].sort_values(by='weight', ascending=False)['term'][:5].values\n",
    "    print(f\"topic: {topic}, top 5 terms: {top_terms_by_topic_df}\")    "
   ]
  },
  {
   "cell_type": "markdown",
   "metadata": {},
   "source": [
    "## Train A Custom Classifier\n",
    "Use custom classification to organize your documents into categories (classes) that you define. Custom classification is a two-step process:\n",
    "1. Train a custom classification model (also called a classifier) to recognize the classes that are of interest to you. \n",
    "2. Use the trained model to classify any number of document sets\n",
    "\n",
    "For example, you can categorize the content of support requests so that you can route the request to the proper support team. Or you can categorize emails received from customers to provide guidance on the requests that customers are making. You can combine Amazon Comprehend with Amazon Transcribe to convert speech to text and then to classify the requests coming from support phone calls.\n",
    "\n",
    "You can classify your documents using two modes: multi-class or multi-label. \n",
    "\n",
    "In this example, we will use the metadata dataset as the source of our input features. Since each movie could have more than 1 genre, we are going to train a model that could predict multi genres based on the overview of each movie.\n",
    "\n",
    "You can run custom classification on a single document synchronously (in real-time) or start an asynchronous job to classify a set of documents. Custom classification accepts a variety of input document types: plain text documents, semi-structured documents, image files, and Amazon Textract ouput files.\n",
    "\n",
    "\n"
   ]
  },
  {
   "cell_type": "code",
   "execution_count": 59,
   "metadata": {},
   "outputs": [
    {
     "data": {
      "text/html": [
       "<div>\n",
       "<style scoped>\n",
       "    .dataframe tbody tr th:only-of-type {\n",
       "        vertical-align: middle;\n",
       "    }\n",
       "\n",
       "    .dataframe tbody tr th {\n",
       "        vertical-align: top;\n",
       "    }\n",
       "\n",
       "    .dataframe thead th {\n",
       "        text-align: right;\n",
       "    }\n",
       "</style>\n",
       "<table border=\"1\" class=\"dataframe\">\n",
       "  <thead>\n",
       "    <tr style=\"text-align: right;\">\n",
       "      <th></th>\n",
       "      <th>adult</th>\n",
       "      <th>belongs_to_collection</th>\n",
       "      <th>budget</th>\n",
       "      <th>genres</th>\n",
       "      <th>homepage</th>\n",
       "      <th>id</th>\n",
       "      <th>imdb_id</th>\n",
       "      <th>original_language</th>\n",
       "      <th>original_title</th>\n",
       "      <th>overview</th>\n",
       "      <th>...</th>\n",
       "      <th>Western</th>\n",
       "      <th>Crime</th>\n",
       "      <th>Comedy</th>\n",
       "      <th>Foreign</th>\n",
       "      <th>History</th>\n",
       "      <th>War</th>\n",
       "      <th>Mystery</th>\n",
       "      <th>Documentary</th>\n",
       "      <th>Horror</th>\n",
       "      <th>Adventure</th>\n",
       "    </tr>\n",
       "  </thead>\n",
       "  <tbody>\n",
       "    <tr>\n",
       "      <th>0</th>\n",
       "      <td>False</td>\n",
       "      <td>{'id': 10194, 'name': 'Toy Story Collection', ...</td>\n",
       "      <td>30000000</td>\n",
       "      <td>[{'id': 16, 'name': 'Animation'}, {'id': 35, '...</td>\n",
       "      <td>http://toystory.disney.com/toy-story</td>\n",
       "      <td>862</td>\n",
       "      <td>tt0114709</td>\n",
       "      <td>en</td>\n",
       "      <td>Toy Story</td>\n",
       "      <td>Led by Woody, Andy's toys live happily in his ...</td>\n",
       "      <td>...</td>\n",
       "      <td>0</td>\n",
       "      <td>0</td>\n",
       "      <td>1</td>\n",
       "      <td>0</td>\n",
       "      <td>0</td>\n",
       "      <td>0</td>\n",
       "      <td>0</td>\n",
       "      <td>0</td>\n",
       "      <td>0</td>\n",
       "      <td>0</td>\n",
       "    </tr>\n",
       "    <tr>\n",
       "      <th>1</th>\n",
       "      <td>False</td>\n",
       "      <td>NaN</td>\n",
       "      <td>65000000</td>\n",
       "      <td>[{'id': 12, 'name': 'Adventure'}, {'id': 14, '...</td>\n",
       "      <td>NaN</td>\n",
       "      <td>8844</td>\n",
       "      <td>tt0113497</td>\n",
       "      <td>en</td>\n",
       "      <td>Jumanji</td>\n",
       "      <td>When siblings Judy and Peter discover an encha...</td>\n",
       "      <td>...</td>\n",
       "      <td>0</td>\n",
       "      <td>0</td>\n",
       "      <td>0</td>\n",
       "      <td>0</td>\n",
       "      <td>0</td>\n",
       "      <td>0</td>\n",
       "      <td>0</td>\n",
       "      <td>0</td>\n",
       "      <td>0</td>\n",
       "      <td>1</td>\n",
       "    </tr>\n",
       "    <tr>\n",
       "      <th>2</th>\n",
       "      <td>False</td>\n",
       "      <td>{'id': 645, 'name': 'James Bond Collection', '...</td>\n",
       "      <td>58000000</td>\n",
       "      <td>[{'id': 12, 'name': 'Adventure'}, {'id': 28, '...</td>\n",
       "      <td>http://www.mgm.com/view/movie/757/Goldeneye/</td>\n",
       "      <td>710</td>\n",
       "      <td>tt0113189</td>\n",
       "      <td>en</td>\n",
       "      <td>GoldenEye</td>\n",
       "      <td>James Bond must unmask the mysterious head of ...</td>\n",
       "      <td>...</td>\n",
       "      <td>0</td>\n",
       "      <td>0</td>\n",
       "      <td>0</td>\n",
       "      <td>0</td>\n",
       "      <td>0</td>\n",
       "      <td>0</td>\n",
       "      <td>0</td>\n",
       "      <td>0</td>\n",
       "      <td>0</td>\n",
       "      <td>1</td>\n",
       "    </tr>\n",
       "    <tr>\n",
       "      <th>3</th>\n",
       "      <td>False</td>\n",
       "      <td>NaN</td>\n",
       "      <td>3600000</td>\n",
       "      <td>[{'id': 18, 'name': 'Drama'}, {'id': 10749, 'n...</td>\n",
       "      <td>http://www.mgm.com/title_title.do?title_star=L...</td>\n",
       "      <td>451</td>\n",
       "      <td>tt0113627</td>\n",
       "      <td>en</td>\n",
       "      <td>Leaving Las Vegas</td>\n",
       "      <td>Ben Sanderson, an alcoholic Hollywood screenwr...</td>\n",
       "      <td>...</td>\n",
       "      <td>0</td>\n",
       "      <td>0</td>\n",
       "      <td>0</td>\n",
       "      <td>0</td>\n",
       "      <td>0</td>\n",
       "      <td>0</td>\n",
       "      <td>0</td>\n",
       "      <td>0</td>\n",
       "      <td>0</td>\n",
       "      <td>0</td>\n",
       "    </tr>\n",
       "    <tr>\n",
       "      <th>4</th>\n",
       "      <td>False</td>\n",
       "      <td>NaN</td>\n",
       "      <td>29500000</td>\n",
       "      <td>[{'id': 878, 'name': 'Science Fiction'}, {'id'...</td>\n",
       "      <td>NaN</td>\n",
       "      <td>63</td>\n",
       "      <td>tt0114746</td>\n",
       "      <td>en</td>\n",
       "      <td>Twelve Monkeys</td>\n",
       "      <td>In the year 2035, convict James Cole reluctant...</td>\n",
       "      <td>...</td>\n",
       "      <td>0</td>\n",
       "      <td>0</td>\n",
       "      <td>0</td>\n",
       "      <td>0</td>\n",
       "      <td>0</td>\n",
       "      <td>0</td>\n",
       "      <td>1</td>\n",
       "      <td>0</td>\n",
       "      <td>0</td>\n",
       "      <td>0</td>\n",
       "    </tr>\n",
       "  </tbody>\n",
       "</table>\n",
       "<p>5 rows × 45 columns</p>\n",
       "</div>"
      ],
      "text/plain": [
       "   adult                              belongs_to_collection    budget  \\\n",
       "0  False  {'id': 10194, 'name': 'Toy Story Collection', ...  30000000   \n",
       "1  False                                                NaN  65000000   \n",
       "2  False  {'id': 645, 'name': 'James Bond Collection', '...  58000000   \n",
       "3  False                                                NaN   3600000   \n",
       "4  False                                                NaN  29500000   \n",
       "\n",
       "                                              genres  \\\n",
       "0  [{'id': 16, 'name': 'Animation'}, {'id': 35, '...   \n",
       "1  [{'id': 12, 'name': 'Adventure'}, {'id': 14, '...   \n",
       "2  [{'id': 12, 'name': 'Adventure'}, {'id': 28, '...   \n",
       "3  [{'id': 18, 'name': 'Drama'}, {'id': 10749, 'n...   \n",
       "4  [{'id': 878, 'name': 'Science Fiction'}, {'id'...   \n",
       "\n",
       "                                            homepage    id    imdb_id  \\\n",
       "0               http://toystory.disney.com/toy-story   862  tt0114709   \n",
       "1                                                NaN  8844  tt0113497   \n",
       "2       http://www.mgm.com/view/movie/757/Goldeneye/   710  tt0113189   \n",
       "3  http://www.mgm.com/title_title.do?title_star=L...   451  tt0113627   \n",
       "4                                                NaN    63  tt0114746   \n",
       "\n",
       "  original_language     original_title  \\\n",
       "0                en          Toy Story   \n",
       "1                en            Jumanji   \n",
       "2                en          GoldenEye   \n",
       "3                en  Leaving Las Vegas   \n",
       "4                en     Twelve Monkeys   \n",
       "\n",
       "                                            overview  ...  Western Crime  \\\n",
       "0  Led by Woody, Andy's toys live happily in his ...  ...        0     0   \n",
       "1  When siblings Judy and Peter discover an encha...  ...        0     0   \n",
       "2  James Bond must unmask the mysterious head of ...  ...        0     0   \n",
       "3  Ben Sanderson, an alcoholic Hollywood screenwr...  ...        0     0   \n",
       "4  In the year 2035, convict James Cole reluctant...  ...        0     0   \n",
       "\n",
       "  Comedy Foreign History  War  Mystery Documentary Horror Adventure  \n",
       "0      1       0       0    0        0           0      0         0  \n",
       "1      0       0       0    0        0           0      0         1  \n",
       "2      0       0       0    0        0           0      0         1  \n",
       "3      0       0       0    0        0           0      0         0  \n",
       "4      0       0       0    0        1           0      0         0  \n",
       "\n",
       "[5 rows x 45 columns]"
      ]
     },
     "execution_count": 59,
     "metadata": {},
     "output_type": "execute_result"
    }
   ],
   "source": [
    "metadata_df.head()"
   ]
  },
  {
   "cell_type": "markdown",
   "metadata": {},
   "source": [
    "## Amazon comprehend custom classifier supports the following languages:\n",
    "English, Spanish, French, German, Italian, Portuguese\n",
    "\n",
    "For our example, we are interested training a custom classfier with movies in English.\n"
   ]
  },
  {
   "cell_type": "code",
   "execution_count": 60,
   "metadata": {},
   "outputs": [],
   "source": [
    "en_metadata_df = metadata_df.loc[metadata_df['original_language'] == 'en']"
   ]
  },
  {
   "cell_type": "code",
   "execution_count": 61,
   "metadata": {},
   "outputs": [
    {
     "name": "stderr",
     "output_type": "stream",
     "text": [
      "/opt/conda/lib/python3.7/site-packages/ipykernel_launcher.py:4: SettingWithCopyWarning: \n",
      "A value is trying to be set on a copy of a slice from a DataFrame.\n",
      "Try using .loc[row_indexer,col_indexer] = value instead\n",
      "\n",
      "See the caveats in the documentation: https://pandas.pydata.org/pandas-docs/stable/user_guide/indexing.html#returning-a-view-versus-a-copy\n",
      "  after removing the cwd from sys.path.\n"
     ]
    }
   ],
   "source": [
    "en_metadata_df['delimited_genres'] = en_metadata_df['genres'].map(lambda x: x.replace(\"'\", '\"')) \\\n",
    "                                                             .map(lambda x: json.loads(x)) \\\n",
    "                                                             .apply(lambda x: [ y['name'] for y in x]) \\\n",
    "                                                             .apply(lambda x: \"|\".join(x))"
   ]
  },
  {
   "cell_type": "code",
   "execution_count": 62,
   "metadata": {},
   "outputs": [],
   "source": [
    "en_metadata_df = en_metadata_df[en_metadata_df['delimited_genres'] != ''] # drop the entries where genre is not defined."
   ]
  },
  {
   "cell_type": "code",
   "execution_count": 63,
   "metadata": {},
   "outputs": [],
   "source": [
    "classifcation_input_df = en_metadata_df[['delimited_genres', 'overview']]\n",
    "shuffled_classifcation_input_df = classifcation_input_df.sample(frac=1, random_state=2042).reset_index(drop=True)\n",
    "training_samples = int(shuffled_classifcation_input_df.shape[0] * .85)\n",
    "training_input_df = shuffled_classifcation_input_df.loc[:training_samples, :]\n",
    "val_input_df = shuffled_classifcation_input_df.loc[training_samples:, :]"
   ]
  },
  {
   "cell_type": "code",
   "execution_count": 64,
   "metadata": {},
   "outputs": [
    {
     "data": {
      "text/html": [
       "<div>\n",
       "<style scoped>\n",
       "    .dataframe tbody tr th:only-of-type {\n",
       "        vertical-align: middle;\n",
       "    }\n",
       "\n",
       "    .dataframe tbody tr th {\n",
       "        vertical-align: top;\n",
       "    }\n",
       "\n",
       "    .dataframe thead th {\n",
       "        text-align: right;\n",
       "    }\n",
       "</style>\n",
       "<table border=\"1\" class=\"dataframe\">\n",
       "  <thead>\n",
       "    <tr style=\"text-align: right;\">\n",
       "      <th></th>\n",
       "      <th>delimited_genres</th>\n",
       "      <th>overview</th>\n",
       "    </tr>\n",
       "  </thead>\n",
       "  <tbody>\n",
       "    <tr>\n",
       "      <th>3025</th>\n",
       "      <td>Drama|History|Romance</td>\n",
       "      <td>When Queen Elizabeth's reign is threatened by ...</td>\n",
       "    </tr>\n",
       "    <tr>\n",
       "      <th>3026</th>\n",
       "      <td>Adventure|Fantasy</td>\n",
       "      <td>After overhearing a shocking secret, precociou...</td>\n",
       "    </tr>\n",
       "    <tr>\n",
       "      <th>3027</th>\n",
       "      <td>Drama|Romance</td>\n",
       "      <td>The Newlyn School of artists flourished at the...</td>\n",
       "    </tr>\n",
       "    <tr>\n",
       "      <th>3028</th>\n",
       "      <td>Comedy|Crime</td>\n",
       "      <td>Sweet Revenge was originally shipped out as Da...</td>\n",
       "    </tr>\n",
       "    <tr>\n",
       "      <th>3029</th>\n",
       "      <td>Thriller|Horror|Mystery</td>\n",
       "      <td>A truck driver plays a cat-and-mouse game with...</td>\n",
       "    </tr>\n",
       "  </tbody>\n",
       "</table>\n",
       "</div>"
      ],
      "text/plain": [
       "             delimited_genres  \\\n",
       "3025    Drama|History|Romance   \n",
       "3026        Adventure|Fantasy   \n",
       "3027            Drama|Romance   \n",
       "3028             Comedy|Crime   \n",
       "3029  Thriller|Horror|Mystery   \n",
       "\n",
       "                                               overview  \n",
       "3025  When Queen Elizabeth's reign is threatened by ...  \n",
       "3026  After overhearing a shocking secret, precociou...  \n",
       "3027  The Newlyn School of artists flourished at the...  \n",
       "3028  Sweet Revenge was originally shipped out as Da...  \n",
       "3029  A truck driver plays a cat-and-mouse game with...  "
      ]
     },
     "execution_count": 64,
     "metadata": {},
     "output_type": "execute_result"
    }
   ],
   "source": [
    "val_input_df.head()"
   ]
  },
  {
   "cell_type": "code",
   "execution_count": 65,
   "metadata": {},
   "outputs": [
    {
     "name": "stdout",
     "output_type": "stream",
     "text": [
      "training samples: 3026, validation samples: 534\n"
     ]
    }
   ],
   "source": [
    "print(f\"training samples: {training_input_df.shape[0]}, validation samples: {val_input_df.shape[0]}\")"
   ]
  },
  {
   "cell_type": "code",
   "execution_count": 66,
   "metadata": {},
   "outputs": [],
   "source": [
    "os.makedirs(\"classification\", exist_ok = True)\n",
    "training_input_df.to_csv(\"classification/train.csv\", header=False, index=False)\n",
    "val_input_df.to_csv(\"classification/validation.csv\", header=False, index=False)"
   ]
  },
  {
   "cell_type": "markdown",
   "metadata": {},
   "source": [
    "## Upload train and validation files to S3"
   ]
  },
  {
   "cell_type": "code",
   "execution_count": 67,
   "metadata": {},
   "outputs": [],
   "source": [
    "s3_document_for_classification_upload_prefix=\"data/comprehend/subtitle-classfications\"\n",
    "s3_document_for_classification_output_prefix=\"data/comprehend/subtitle-classfications-output\"\n",
    "s3_document_for_classification_analysis_output_prefix=\"data/comprehend/subtitle-classfications-analysis-output\""
   ]
  },
  {
   "cell_type": "code",
   "execution_count": 68,
   "metadata": {},
   "outputs": [],
   "source": [
    "import glob\n",
    "\n",
    "for file in glob.glob(os.path.join(\"classification\", '*.csv')):\n",
    "    with open(os.path.join(file), \"rb\") as f:\n",
    "        s3.upload_fileobj(f, default_bucket, os.path.join(s3_document_for_classification_upload_prefix, os.path.basename(file)))"
   ]
  },
  {
   "cell_type": "code",
   "execution_count": 69,
   "metadata": {},
   "outputs": [
    {
     "name": "stdout",
     "output_type": "stream",
     "text": [
      "Create response: %s\n",
      " {'DocumentClassifierArn': 'arn:aws:comprehend:us-east-2:869530972998:document-classifier/MovieSubTitleClassification-1673368419', 'ResponseMetadata': {'RequestId': 'd7601684-cdd7-46ac-b50c-6e5056428d7b', 'HTTPStatusCode': 200, 'HTTPHeaders': {'x-amzn-requestid': 'd7601684-cdd7-46ac-b50c-6e5056428d7b', 'content-type': 'application/x-amz-json-1.1', 'content-length': '128', 'date': 'Tue, 10 Jan 2023 16:33:39 GMT'}, 'RetryAttempts': 0}}\n",
      "Describe response: %s\n",
      " {'DocumentClassifierProperties': {'DocumentClassifierArn': 'arn:aws:comprehend:us-east-2:869530972998:document-classifier/MovieSubTitleClassification-1673368419', 'LanguageCode': 'en', 'Status': 'SUBMITTED', 'SubmitTime': datetime.datetime(2023, 1, 10, 16, 33, 39, 609000, tzinfo=tzlocal()), 'InputDataConfig': {'DataFormat': 'COMPREHEND_CSV', 'S3Uri': 's3://sagemaker-us-east-2-869530972998/data/comprehend/subtitle-classfications/train.csv', 'TestS3Uri': 's3://sagemaker-us-east-2-869530972998/data/comprehend/subtitle-classfications/validation.csv', 'LabelDelimiter': '|'}, 'OutputDataConfig': {'S3Uri': 's3://sagemaker-us-east-2-869530972998/data/comprehend/subtitle-classfications-output/869530972998-CLR-c66f5baf1ef18246553779bd29b0b6fc/output/output.tar.gz'}, 'DataAccessRoleArn': 'arn:aws:iam::869530972998:role/service-role/AmazonComprehendServiceRole-default', 'Mode': 'MULTI_LABEL'}, 'ResponseMetadata': {'RequestId': 'fd759ff1-36ac-4d8b-831f-324b17a12d30', 'HTTPStatusCode': 200, 'HTTPHeaders': {'x-amzn-requestid': 'fd759ff1-36ac-4d8b-831f-324b17a12d30', 'content-type': 'application/x-amz-json-1.1', 'content-length': '818', 'date': 'Tue, 10 Jan 2023 16:33:39 GMT'}, 'RetryAttempts': 0}}\n"
     ]
    },
    {
     "ename": "KeyError",
     "evalue": "'DocumentClassifierArn'",
     "output_type": "error",
     "traceback": [
      "\u001b[0;31m---------------------------------------------------------------------------\u001b[0m",
      "\u001b[0;31mKeyError\u001b[0m                                  Traceback (most recent call last)",
      "\u001b[0;32m<ipython-input-69-69327f3bb878>\u001b[0m in \u001b[0;36m<module>\u001b[0;34m\u001b[0m\n\u001b[1;32m     21\u001b[0m \u001b[0mprint\u001b[0m\u001b[0;34m(\u001b[0m\u001b[0;34m\"Describe response: %s\\n\"\u001b[0m\u001b[0;34m,\u001b[0m \u001b[0mdescribe_response\u001b[0m\u001b[0;34m)\u001b[0m\u001b[0;34m\u001b[0m\u001b[0;34m\u001b[0m\u001b[0m\n\u001b[1;32m     22\u001b[0m \u001b[0;34m\u001b[0m\u001b[0m\n\u001b[0;32m---> 23\u001b[0;31m \u001b[0mdocument_classfier_arn\u001b[0m \u001b[0;34m=\u001b[0m \u001b[0mdescribe_response\u001b[0m\u001b[0;34m[\u001b[0m\u001b[0;34m'DocumentClassifierArn'\u001b[0m\u001b[0;34m]\u001b[0m\u001b[0;34m\u001b[0m\u001b[0;34m\u001b[0m\u001b[0m\n\u001b[0m",
      "\u001b[0;31mKeyError\u001b[0m: 'DocumentClassifierArn'"
     ]
    }
   ],
   "source": [
    "import time\n",
    "\n",
    "create_response = comprehend.create_document_classifier(\n",
    "    InputDataConfig={\n",
    "        'S3Uri': f's3://{default_bucket}/{s3_document_for_classification_upload_prefix}/train.csv',\n",
    "        'TestS3Uri': f's3://{default_bucket}/{s3_document_for_classification_upload_prefix}/validation.csv',\n",
    "    },\n",
    "    OutputDataConfig={\n",
    "        'S3Uri': f's3://{default_bucket}/{s3_document_for_classification_output_prefix}'\n",
    "    },\n",
    "    DataAccessRoleArn=data_access_role_arn,\n",
    "    DocumentClassifierName=f'MovieSubTitleClassification-{int(time.time())}',\n",
    "    LanguageCode='en',\n",
    "    Mode=\"MULTI_LABEL\"\n",
    ")\n",
    "print(\"Create response: %s\\n\", create_response)"
   ]
  },
  {
   "cell_type": "code",
   "execution_count": 73,
   "metadata": {},
   "outputs": [],
   "source": [
    "# Check the status of the classifier\n",
    "describe_response = comprehend.describe_document_classifier(\n",
    "    DocumentClassifierArn=create_response['DocumentClassifierArn'])\n",
    "\n",
    "document_classfier_arn = create_response['DocumentClassifierArn']"
   ]
  },
  {
   "cell_type": "markdown",
   "metadata": {},
   "source": [
    "# Deploy Custom Classification Model Endpoint\n",
    "\n",
    "You can run custom classification on a single document synchronously (in real-time) or start an asynchronous job to classify a set of documents. Custom classification accepts a variety of input document types: plain text documents, semi-structured documents, image files, and Amazon Textract ouput files."
   ]
  },
  {
   "cell_type": "code",
   "execution_count": 74,
   "metadata": {},
   "outputs": [],
   "source": [
    "document_classfier_arn = \"arn:aws:comprehend:us-east-2:869530972998:document-classifier/MovieSubTitleClassification-1670025843\""
   ]
  },
  {
   "cell_type": "markdown",
   "metadata": {},
   "source": [
    "# Analyze Movie Genre Classfication in realtime \n",
    "\n",
    "You can use the Amazon Comprehend API to run real-time classification with a custom model. \n",
    "First, you create an endpoint to run the real-time analysis. After you create the endpoint, you run the real-time classification."
   ]
  },
  {
   "cell_type": "markdown",
   "metadata": {},
   "source": [
    "# Uncomment the following block to deploy an endpoint. "
   ]
  },
  {
   "cell_type": "code",
   "execution_count": 75,
   "metadata": {},
   "outputs": [],
   "source": [
    "# endpoint_name = f\"MovieSubTitleClassification-{int(time.time())}\"\n",
    "# response = comprehend.create_endpoint(\n",
    "#     EndpointName=endpoint_name,\n",
    "#     ModelArn=create_response['DocumentClassifierArn'],\n",
    "#     DesiredInferenceUnits=10,\n",
    "#     DataAccessRoleArn=data_access_role_arn\n",
    "# )\n",
    "# print(response)\n",
    "# endpoint_arn = response['EndpointArn']"
   ]
  },
  {
   "cell_type": "markdown",
   "metadata": {},
   "source": [
    "# Run realtime classification"
   ]
  },
  {
   "cell_type": "code",
   "execution_count": 76,
   "metadata": {},
   "outputs": [],
   "source": [
    "endpoint_arn = \"arn:aws:comprehend:us-east-2:869530972998:document-classifier-endpoint/MovieSubTitleClassification-1670043537\""
   ]
  },
  {
   "cell_type": "code",
   "execution_count": 77,
   "metadata": {},
   "outputs": [
    {
     "data": {
      "text/html": [
       "<div>\n",
       "<style scoped>\n",
       "    .dataframe tbody tr th:only-of-type {\n",
       "        vertical-align: middle;\n",
       "    }\n",
       "\n",
       "    .dataframe tbody tr th {\n",
       "        vertical-align: top;\n",
       "    }\n",
       "\n",
       "    .dataframe thead th {\n",
       "        text-align: right;\n",
       "    }\n",
       "</style>\n",
       "<table border=\"1\" class=\"dataframe\">\n",
       "  <thead>\n",
       "    <tr style=\"text-align: right;\">\n",
       "      <th></th>\n",
       "      <th>delimited_genres</th>\n",
       "      <th>overview</th>\n",
       "    </tr>\n",
       "  </thead>\n",
       "  <tbody>\n",
       "    <tr>\n",
       "      <th>3025</th>\n",
       "      <td>Drama|History|Romance</td>\n",
       "      <td>When Queen Elizabeth's reign is threatened by ...</td>\n",
       "    </tr>\n",
       "    <tr>\n",
       "      <th>3026</th>\n",
       "      <td>Adventure|Fantasy</td>\n",
       "      <td>After overhearing a shocking secret, precociou...</td>\n",
       "    </tr>\n",
       "    <tr>\n",
       "      <th>3027</th>\n",
       "      <td>Drama|Romance</td>\n",
       "      <td>The Newlyn School of artists flourished at the...</td>\n",
       "    </tr>\n",
       "    <tr>\n",
       "      <th>3028</th>\n",
       "      <td>Comedy|Crime</td>\n",
       "      <td>Sweet Revenge was originally shipped out as Da...</td>\n",
       "    </tr>\n",
       "    <tr>\n",
       "      <th>3029</th>\n",
       "      <td>Thriller|Horror|Mystery</td>\n",
       "      <td>A truck driver plays a cat-and-mouse game with...</td>\n",
       "    </tr>\n",
       "  </tbody>\n",
       "</table>\n",
       "</div>"
      ],
      "text/plain": [
       "             delimited_genres  \\\n",
       "3025    Drama|History|Romance   \n",
       "3026        Adventure|Fantasy   \n",
       "3027            Drama|Romance   \n",
       "3028             Comedy|Crime   \n",
       "3029  Thriller|Horror|Mystery   \n",
       "\n",
       "                                               overview  \n",
       "3025  When Queen Elizabeth's reign is threatened by ...  \n",
       "3026  After overhearing a shocking secret, precociou...  \n",
       "3027  The Newlyn School of artists flourished at the...  \n",
       "3028  Sweet Revenge was originally shipped out as Da...  \n",
       "3029  A truck driver plays a cat-and-mouse game with...  "
      ]
     },
     "execution_count": 77,
     "metadata": {},
     "output_type": "execute_result"
    }
   ],
   "source": [
    "val_input_df.head()"
   ]
  },
  {
   "cell_type": "code",
   "execution_count": 78,
   "metadata": {},
   "outputs": [],
   "source": [
    "test_overview_string = val_input_df.loc[3025:3025, \"overview\"].values[0]"
   ]
  },
  {
   "cell_type": "code",
   "execution_count": 79,
   "metadata": {},
   "outputs": [],
   "source": [
    "response = comprehend.classify_document(\n",
    "    Text=test_overview_string,\n",
    "    EndpointArn=endpoint_arn\n",
    ")"
   ]
  },
  {
   "cell_type": "code",
   "execution_count": 80,
   "metadata": {},
   "outputs": [
    {
     "data": {
      "text/plain": [
       "[{'Name': 'Drama', 'Score': 0.9926754832267761},\n",
       " {'Name': 'History', 'Score': 0.654626727104187},\n",
       " {'Name': 'Romance', 'Score': 0.4170531928539276}]"
      ]
     },
     "execution_count": 80,
     "metadata": {},
     "output_type": "execute_result"
    }
   ],
   "source": [
    "response['Labels']"
   ]
  },
  {
   "cell_type": "markdown",
   "metadata": {},
   "source": [
    "# Run Classification Analysis Job (Asynchronous)\n",
    "\n",
    "After you create and train a custom document classifier, you can use the classifier to run analysis jobs.\n",
    "\n",
    "Use the StartDocumentClassificationJob operation to start classifying unlabeled documents. You specify the S3 bucket that contains the input documents, the S3 bucket for the output documents, and the classifier to use.\n",
    "\n",
    "StartDocumentClassificationJob is asynchronous. Once you have started the job, use the DescribeDocumentClassificationJob operation to monitor its progress. When the Status field in the response shows COMPLETED, you can access the output in the location that you specified."
   ]
  },
  {
   "cell_type": "code",
   "execution_count": 503,
   "metadata": {},
   "outputs": [
    {
     "name": "stdout",
     "output_type": "stream",
     "text": [
      "Start response: %s\n",
      " {'JobId': '8c01a8886e94cdd2c48d083fc78d93af', 'JobArn': 'arn:aws:comprehend:us-east-2:869530972998:document-classification-job/8c01a8886e94cdd2c48d083fc78d93af', 'JobStatus': 'SUBMITTED', 'ResponseMetadata': {'RequestId': '3e45e1f1-edbc-41ff-ba0c-604aceb16938', 'HTTPStatusCode': 200, 'HTTPHeaders': {'x-amzn-requestid': '3e45e1f1-edbc-41ff-ba0c-604aceb16938', 'content-type': 'application/x-amz-json-1.1', 'content-length': '182', 'date': 'Sat, 03 Dec 2022 05:13:55 GMT'}, 'RetryAttempts': 0}}\n",
      "Describe response: %s\n",
      " {'DocumentClassificationJobProperties': {'JobId': '8c01a8886e94cdd2c48d083fc78d93af', 'JobArn': 'arn:aws:comprehend:us-east-2:869530972998:document-classification-job/8c01a8886e94cdd2c48d083fc78d93af', 'JobStatus': 'SUBMITTED', 'SubmitTime': datetime.datetime(2022, 12, 3, 5, 13, 55, 708000, tzinfo=tzlocal()), 'DocumentClassifierArn': 'arn:aws:comprehend:us-east-2:869530972998:document-classifier/MovieSubTitleClassification-1670025843', 'InputDataConfig': {'S3Uri': 's3://sagemaker-us-east-2-869530972998/data/comprehend/subtitle-classfications/validation.csv', 'InputFormat': 'ONE_DOC_PER_LINE'}, 'OutputDataConfig': {'S3Uri': 's3://sagemaker-us-east-2-869530972998/data/comprehend/subtitle-classfications-analysis-output/869530972998-CLN-8c01a8886e94cdd2c48d083fc78d93af/output/output.tar.gz'}, 'DataAccessRoleArn': 'arn:aws:iam::869530972998:role/service-role/AmazonComprehendServiceRole-default'}, 'ResponseMetadata': {'RequestId': 'a9148184-bf98-4f2a-a157-4e163b31ae2f', 'HTTPStatusCode': 200, 'HTTPHeaders': {'x-amzn-requestid': 'a9148184-bf98-4f2a-a157-4e163b31ae2f', 'content-type': 'application/x-amz-json-1.1', 'content-length': '833', 'date': 'Sat, 03 Dec 2022 05:13:55 GMT'}, 'RetryAttempts': 0}}\n",
      "List response: %s\n",
      " {'DocumentClassificationJobPropertiesList': [{'JobId': 'ccb3ca2709dd2c37a54c03a39a94c406', 'JobArn': 'arn:aws:comprehend:us-east-2:869530972998:document-classification-job/ccb3ca2709dd2c37a54c03a39a94c406', 'JobStatus': 'IN_PROGRESS', 'SubmitTime': datetime.datetime(2022, 12, 3, 5, 13, 37, 731000, tzinfo=tzlocal()), 'DocumentClassifierArn': 'arn:aws:comprehend:us-east-2:869530972998:document-classifier/MovieSubTitleClassification-1670025843', 'InputDataConfig': {'S3Uri': 's3://sagemaker-us-east-2-869530972998/data/comprehend/subtitle-classfications/validation.csv', 'InputFormat': 'ONE_DOC_PER_LINE'}, 'OutputDataConfig': {'S3Uri': 's3://sagemaker-us-east-2-869530972998/data/comprehend/subtitle-classfications-analysis-output/869530972998-CLN-ccb3ca2709dd2c37a54c03a39a94c406/output/output.tar.gz'}, 'DataAccessRoleArn': 'arn:aws:iam::869530972998:role/service-role/AmazonComprehendServiceRole-default'}, {'JobId': '8c01a8886e94cdd2c48d083fc78d93af', 'JobArn': 'arn:aws:comprehend:us-east-2:869530972998:document-classification-job/8c01a8886e94cdd2c48d083fc78d93af', 'JobStatus': 'SUBMITTED', 'SubmitTime': datetime.datetime(2022, 12, 3, 5, 13, 55, 708000, tzinfo=tzlocal()), 'DocumentClassifierArn': 'arn:aws:comprehend:us-east-2:869530972998:document-classifier/MovieSubTitleClassification-1670025843', 'InputDataConfig': {'S3Uri': 's3://sagemaker-us-east-2-869530972998/data/comprehend/subtitle-classfications/validation.csv', 'InputFormat': 'ONE_DOC_PER_LINE'}, 'OutputDataConfig': {'S3Uri': 's3://sagemaker-us-east-2-869530972998/data/comprehend/subtitle-classfications-analysis-output/869530972998-CLN-8c01a8886e94cdd2c48d083fc78d93af/output/output.tar.gz'}, 'DataAccessRoleArn': 'arn:aws:iam::869530972998:role/service-role/AmazonComprehendServiceRole-default'}], 'ResponseMetadata': {'RequestId': 'b941796c-a513-41de-8036-1c8c8744c386', 'HTTPStatusCode': 200, 'HTTPHeaders': {'x-amzn-requestid': 'b941796c-a513-41de-8036-1c8c8744c386', 'content-type': 'application/x-amz-json-1.1', 'content-length': '1635', 'date': 'Sat, 03 Dec 2022 05:13:55 GMT'}, 'RetryAttempts': 0}}\n"
     ]
    }
   ],
   "source": [
    "start_response = comprehend.start_document_classification_job(\n",
    "     JobName= f\"MovieSubTitleClassification-{int(time.time())}\"\n",
    "     InputDataConfig={\n",
    "         'S3Uri': f's3://{default_bucket}/{s3_document_for_classification_upload_prefix}/validation.csv',\n",
    "         'InputFormat': 'ONE_DOC_PER_LINE'\n",
    "     },\n",
    "     OutputDataConfig={\n",
    "         'S3Uri': f\"s3://{default_bucket}/{s3_document_for_classification_analysis_output_prefix}\"\n",
    "     },\n",
    "     DataAccessRoleArn=data_access_role_arn,\n",
    "     DocumentClassifierArn=document_classfier_arn\n",
    " )\n",
    " \n",
    "print(\"Start response: %s\\n\", start_response)\n",
    " \n",
    "# Check the status of the job\n",
    "describe_response = comprehend.describe_document_classification_job(JobId=start_response['JobId'])\n",
    "print(\"Describe response: %s\\n\", describe_response)\n",
    " \n",
    "# List all classification jobs in account\n",
    "list_response = comprehend.list_document_classification_jobs()\n",
    "print(\"List response: %s\\n\", list_response)"
   ]
  },
  {
   "cell_type": "markdown",
   "metadata": {},
   "source": [
    "# Sentiment Analysis\n",
    "Use Amazon Comprehend to determine the sentiment of a document. For example, you can use sentiment analysis to determine the sentiments of comments on a blog posting to determine if your readers liked the post.\n",
    "\n",
    "You can determine sentiment for documents in any of the primary languages supported by Amazon Comprehend. All documents in one job must be in the same language.\n",
    "\n",
    "Sentiment determination returns the following values:\n",
    "\n",
    "Positive – The text expresses an overall positive sentiment.\n",
    "\n",
    "Negative – The text expresses an overall negative sentiment.\n",
    "\n",
    "Mixed – The text expresses both positive and negative sentiments.\n",
    "\n",
    "Neutral – The text does not express either positive or negative sentiments.\n",
    "\n",
    "You can use any of the following API operations to detect the sentiment of a document or a set of documents.\n",
    "\n",
    "Supported language codes: 'en', 'es', 'fr', 'de', 'it', 'pt', 'ar', 'hi', 'ja', 'ko', 'zh', 'zh-TW'"
   ]
  },
  {
   "cell_type": "code",
   "execution_count": 117,
   "metadata": {},
   "outputs": [
    {
     "data": {
      "text/plain": [
       "\"When Queen Elizabeth's reign is threatened by ruthless familial betrayal and Spain's invading army, she and her shrewd adviser must act to safeguard to the lives of her people.\""
      ]
     },
     "execution_count": 117,
     "metadata": {},
     "output_type": "execute_result"
    }
   ],
   "source": [
    "test_overview_string"
   ]
  },
  {
   "cell_type": "code",
   "execution_count": 115,
   "metadata": {},
   "outputs": [],
   "source": [
    "response = comprehend.detect_sentiment(\n",
    "    Text=test_overview_string,\n",
    "    LanguageCode='en'\n",
    ")"
   ]
  },
  {
   "cell_type": "code",
   "execution_count": 116,
   "metadata": {},
   "outputs": [
    {
     "data": {
      "text/plain": [
       "{'Sentiment': 'NEUTRAL',\n",
       " 'SentimentScore': {'Positive': 0.006045124493539333,\n",
       "  'Negative': 0.11982877552509308,\n",
       "  'Neutral': 0.8739916682243347,\n",
       "  'Mixed': 0.00013437209418043494},\n",
       " 'ResponseMetadata': {'RequestId': 'c05c7743-c417-4ab6-94bf-133e8f99a391',\n",
       "  'HTTPStatusCode': 200,\n",
       "  'HTTPHeaders': {'x-amzn-requestid': 'c05c7743-c417-4ab6-94bf-133e8f99a391',\n",
       "   'content-type': 'application/x-amz-json-1.1',\n",
       "   'content-length': '164',\n",
       "   'date': 'Mon, 05 Dec 2022 19:02:11 GMT'},\n",
       "  'RetryAttempts': 0}}"
      ]
     },
     "execution_count": 116,
     "metadata": {},
     "output_type": "execute_result"
    }
   ],
   "source": [
    "response"
   ]
  },
  {
   "cell_type": "markdown",
   "metadata": {},
   "source": [
    "# Batch Sentiment Detection\n",
    "Inspects a batch of documents and returns an inference of the prevailing sentiment, POSITIVE, NEUTRAL, MIXED, or NEGATIVE, in each one.\n",
    "\n"
   ]
  },
  {
   "cell_type": "code",
   "execution_count": 132,
   "metadata": {},
   "outputs": [],
   "source": [
    "# test_overview_string = val_input_df.loc[3025:3025, \"overview\"].values[0]\n",
    "batch_sentiment_samples = val_input_df.sample(n=25)['overview'].values\n",
    "#  [3025:3025, \"overview\"].values[0]"
   ]
  },
  {
   "cell_type": "code",
   "execution_count": 163,
   "metadata": {},
   "outputs": [
    {
     "data": {
      "text/plain": [
       "'Retirement at last! Middle-aged and divorced, company owner Richard Jones is looking forward to a worry-free existence as he arrives at his office on his last day of work. Much to his dismay, he discovers that the management buyout of his company was fraudulent. The company is now bankrupt and the employee pension fund — including his own — has been embezzled. Enlisting the help of his ex-wife Kate, Richard sets out to track down the shady businessman behind the fraud...'"
      ]
     },
     "execution_count": 163,
     "metadata": {},
     "output_type": "execute_result"
    }
   ],
   "source": [
    "batch_sentiment_samples[7]"
   ]
  },
  {
   "cell_type": "code",
   "execution_count": 133,
   "metadata": {},
   "outputs": [
    {
     "name": "stdout",
     "output_type": "stream",
     "text": [
      "The life of a young computer systems analyst is thrown into turmoil after arriving in Istanbul to start a new job. She soon finds her passport missing, her credit cards useless, her bank account empty and her identity stolen. As the story progresses we find people and events may not be what they seem ...\n",
      "A film producer who was adopted as a baby and sent to America, returns to her native Russia and the family farm. Once there, strange things begin to happen including the disappearance of her guide, the manifestation of ghosts (including her own!) and the appearance of another man who has been drawn to the farm for the same reasons.\n",
      "A pregnant widow, believing herself to be guided by her unborn child, embarks on a homicidal rampage.\n",
      "After arriving in India, Indiana Jones is asked by a desperate village to find a mystical stone. He agrees – and stumbles upon a secret cult plotting a terrible plan in the catacombs of an ancient palace.\n",
      "Fiction inspired from the story of the rise and the fall of french politician and former head of the International Monetary Fund, Dominique Strauss-Kahn.\n",
      "The U.S. government, eager to protect the nation's avacado supplies, recruits feminist professor Margo Hunt to make contact with the Piranha Women, an all-female tribe who believe men are only good as a source of food. Accompanying Dr. Hunt on her trip are Jim, a guide of questionable competence, and Bunny, a student of unquestionable incompetence.\n",
      "Seth and Jonah are twins with a dangerous ability: telekinesis. Things start to spiral out of control as their classmates die in twisted and bizarre ways. Jealousy begins to divide them and soon they can no longer trust each other, leading up to a horrific battle against themselves.\n",
      "Retirement at last! Middle-aged and divorced, company owner Richard Jones is looking forward to a worry-free existence as he arrives at his office on his last day of work. Much to his dismay, he discovers that the management buyout of his company was fraudulent. The company is now bankrupt and the employee pension fund — including his own — has been embezzled. Enlisting the help of his ex-wife Kate, Richard sets out to track down the shady businessman behind the fraud...\n",
      "A young man must find his own way as his Southern Baptist roots don't seem to be acceptable at his new liberal arts college.\n",
      "Louis Hayward stars as a wealthy man who tries to seduce the family maid. She resists, and he kills her. Long jealous of his brother Lee Bowman, Hayward does his best to pin the blame for the murder on his sibling. Also affected by Hayward's arrogant dementia is his long-suffering wife Jane Wyatt. Originally, director Lang had proposed that the unfortunate maid be a black woman, but was over ruled\n",
      "A resident of a suburban dystopia tries to reassemble his fragmented memories of life as a teen.\n",
      "Hamlet comes home from university to find his uncle married to his mother, and his father's ghost haunting the battlements and scaring the watch. Then his father's ghost directs him to seek revenge.\n",
      "Maverick is a gambler who would rather con someone than fight them. He needs an additional three thousand dollars in order to enter a Winner Take All poker game that begins in a few days. He tries to win some, tries to collect a few debts, and recover a little loot for the reward. He joins forces with a woman gambler with a marvelous southern accent as the two both try and enter the game.\n",
      "When villagers begin disappearing it is discovered that they had fallen through a crack in the earth which goes straight to Hades. Hercules once again comes to the rescue and faces one of his most difficult challenges, and must prove himself as a man as well as a god. \"Hercules in the Underworld\" is the fourth made for TV movie in the series Hercules: The Legendary Journeys.\n",
      "A family discovers that dark spirits have invaded their home after their son inexplicably falls into an endless sleep. When they reach out to a professional for help, they learn things are a lot more personal than they thought.\n",
      "Years after a mysterious plague has devastated the planet and turned most of humanity into blood-hungry creatures, a rogue drifter on a vengeful hunt stumbles across a band of survivors in an abandoned police station and reluctantly agrees to try to help them defend themselves and escape to the sanctuary they so desperately need.\n",
      "In a future Earth barren of all flora and fauna, the planet's ecosystems exist only in large pods attached to spacecraft. When word comes in that the pods are to be jettisoned into space and destroyed so that the spacecraft can be reused for commercial purposes, most of the crew of the Valley Forge rejoice at the prospect of going home. Not so for botanist Freeman Lowell who loves the forest and its creatures, so decides to take matters into his own hands to protect what he loves.\n",
      "A doctor's daughter is kidnapped and buried alive, and he is given just five hours to find and rescue her.\n",
      "Col. Guile and various other martial arts heroes fight against the tyranny of Dictator M. Bison and his cohorts.\n",
      "A year after witnessing a murder, residents of Tower Block 31 find themselves being picked off by a sniper, pitting those lucky enough to be alive into a battle for survival.\n",
      "This lively documentary explores the rise and fall of physical media from the origin of film all the way through the video store era into digital media, focusing on B-movie and cult films. With icons like Joe Bob Briggs (MonsterVision), Lloyd Kaufman (Toxic Avenger), Greg Sestero (The Room), Debbie Rochon (Return to Nuke 'Em High), Deborah Reed (Troll 2), Mark Frazer (Samurai Cop), James Nguyen (Birdemic) and many others.\n",
      "Sylvia West (Carroll Baker) may not be who she says she is. Her fiancé, the very well-to-do Frederick Summers (Peter Lawford), hires an investigator named Alan Maklin (George Maharis) to do some digging, and what he finds out about her life prior to becoming a writer is quite shocking. Will the newfound knowledge ruin the marriage? Gordon Douglas (Young at Heart) directs this drama, which is based on E.V. Cunningham's book.\n",
      "Based on the novel by Ernest Hemingway. Santiago goes out on his usual fishing trip and makes a huge catch, the biggest of his life. Then a shark attacks and tries to steal his catch.\n",
      "When Stuart learns that his British ex-girlfriend is planning to visit Los Angeles with her husband, he sets out to impress them with his glamorous lifestyle, enlisting a Russian model he’s just met to play the role of his beautiful girlfriend. What could go wrong?\n",
      "Lord John Morgan has returned to civilized life in England, but finds he has nothing but disdain for that life. Yearning to embrace the simplicity of the American West-and the Yellow Hands Sioux tribe he left behind, Morgan returns to the tribe's land only to discover that they've been decimated by ruthless, government-backed fur traders. They must regain their land, led by Horse.\n"
     ]
    }
   ],
   "source": [
    "for sample in batch_sentiment_samples:\n",
    "    print(sample)"
   ]
  },
  {
   "cell_type": "code",
   "execution_count": 136,
   "metadata": {},
   "outputs": [],
   "source": [
    "response = comprehend.batch_detect_sentiment(\n",
    "    TextList=list(batch_sentiment_samples),\n",
    "    LanguageCode='en'\n",
    ")"
   ]
  },
  {
   "cell_type": "code",
   "execution_count": 137,
   "metadata": {},
   "outputs": [
    {
     "data": {
      "text/plain": [
       "{'ResultList': [{'Index': 0,\n",
       "   'Sentiment': 'NEUTRAL',\n",
       "   'SentimentScore': {'Positive': 0.0013342387974262238,\n",
       "    'Negative': 0.447750449180603,\n",
       "    'Neutral': 0.5490082502365112,\n",
       "    'Mixed': 0.0019070595735684037}},\n",
       "  {'Index': 1,\n",
       "   'Sentiment': 'NEUTRAL',\n",
       "   'SentimentScore': {'Positive': 0.0006920453161001205,\n",
       "    'Negative': 0.0019484956283122301,\n",
       "    'Neutral': 0.9972878694534302,\n",
       "    'Mixed': 7.158063090173528e-05}},\n",
       "  {'Index': 2,\n",
       "   'Sentiment': 'NEUTRAL',\n",
       "   'SentimentScore': {'Positive': 0.005141110625118017,\n",
       "    'Negative': 0.030108187347650528,\n",
       "    'Neutral': 0.9642391800880432,\n",
       "    'Mixed': 0.000511477526742965}},\n",
       "  {'Index': 3,\n",
       "   'Sentiment': 'NEUTRAL',\n",
       "   'SentimentScore': {'Positive': 0.0027704350650310516,\n",
       "    'Negative': 0.0198673103004694,\n",
       "    'Neutral': 0.977347195148468,\n",
       "    'Mixed': 1.5041312508401461e-05}},\n",
       "  {'Index': 4,\n",
       "   'Sentiment': 'NEUTRAL',\n",
       "   'SentimentScore': {'Positive': 0.20060589909553528,\n",
       "    'Negative': 0.0006644892855547369,\n",
       "    'Neutral': 0.7986989617347717,\n",
       "    'Mixed': 3.0677623726660386e-05}},\n",
       "  {'Index': 5,\n",
       "   'Sentiment': 'NEUTRAL',\n",
       "   'SentimentScore': {'Positive': 0.3994729220867157,\n",
       "    'Negative': 0.023851677775382996,\n",
       "    'Neutral': 0.5755705237388611,\n",
       "    'Mixed': 0.001104832859709859}},\n",
       "  {'Index': 6,\n",
       "   'Sentiment': 'NEUTRAL',\n",
       "   'SentimentScore': {'Positive': 0.015870969742536545,\n",
       "    'Negative': 0.37820959091186523,\n",
       "    'Neutral': 0.6047061085700989,\n",
       "    'Mixed': 0.0012133769923821092}},\n",
       "  {'Index': 7,\n",
       "   'Sentiment': 'NEGATIVE',\n",
       "   'SentimentScore': {'Positive': 0.08095449209213257,\n",
       "    'Negative': 0.6899039149284363,\n",
       "    'Neutral': 0.22848133742809296,\n",
       "    'Mixed': 0.0006602886132895947}},\n",
       "  {'Index': 8,\n",
       "   'Sentiment': 'NEUTRAL',\n",
       "   'SentimentScore': {'Positive': 0.045864228159189224,\n",
       "    'Negative': 0.4144027531147003,\n",
       "    'Neutral': 0.5382840037345886,\n",
       "    'Mixed': 0.0014489664463326335}},\n",
       "  {'Index': 9,\n",
       "   'Sentiment': 'NEUTRAL',\n",
       "   'SentimentScore': {'Positive': 0.013484238646924496,\n",
       "    'Negative': 0.39327558875083923,\n",
       "    'Neutral': 0.5931419134140015,\n",
       "    'Mixed': 9.829072223510593e-05}},\n",
       "  {'Index': 10,\n",
       "   'Sentiment': 'NEUTRAL',\n",
       "   'SentimentScore': {'Positive': 0.002376151503995061,\n",
       "    'Negative': 0.005638257600367069,\n",
       "    'Neutral': 0.9918768405914307,\n",
       "    'Mixed': 0.0001088004355551675}},\n",
       "  {'Index': 11,\n",
       "   'Sentiment': 'NEUTRAL',\n",
       "   'SentimentScore': {'Positive': 0.0011258111335337162,\n",
       "    'Negative': 0.001840721582993865,\n",
       "    'Neutral': 0.9970154762268066,\n",
       "    'Mixed': 1.788975714589469e-05}},\n",
       "  {'Index': 12,\n",
       "   'Sentiment': 'NEUTRAL',\n",
       "   'SentimentScore': {'Positive': 0.06869063526391983,\n",
       "    'Negative': 0.07331650704145432,\n",
       "    'Neutral': 0.8478255271911621,\n",
       "    'Mixed': 0.010167290456593037}},\n",
       "  {'Index': 13,\n",
       "   'Sentiment': 'NEUTRAL',\n",
       "   'SentimentScore': {'Positive': 0.029640261083841324,\n",
       "    'Negative': 0.0006455178372561932,\n",
       "    'Neutral': 0.9695945382118225,\n",
       "    'Mixed': 0.00011975451343460009}},\n",
       "  {'Index': 14,\n",
       "   'Sentiment': 'NEUTRAL',\n",
       "   'SentimentScore': {'Positive': 0.07944194972515106,\n",
       "    'Negative': 0.003214719705283642,\n",
       "    'Neutral': 0.913854718208313,\n",
       "    'Mixed': 0.0034886267967522144}},\n",
       "  {'Index': 15,\n",
       "   'Sentiment': 'NEUTRAL',\n",
       "   'SentimentScore': {'Positive': 0.018274689093232155,\n",
       "    'Negative': 0.06709735840559006,\n",
       "    'Neutral': 0.8802622556686401,\n",
       "    'Mixed': 0.03436573967337608}},\n",
       "  {'Index': 16,\n",
       "   'Sentiment': 'NEUTRAL',\n",
       "   'SentimentScore': {'Positive': 0.009731864556670189,\n",
       "    'Negative': 0.021799523383378983,\n",
       "    'Neutral': 0.9681460857391357,\n",
       "    'Mixed': 0.0003225642431061715}},\n",
       "  {'Index': 17,\n",
       "   'Sentiment': 'NEUTRAL',\n",
       "   'SentimentScore': {'Positive': 0.028599895536899567,\n",
       "    'Negative': 0.04455815255641937,\n",
       "    'Neutral': 0.9064712524414062,\n",
       "    'Mixed': 0.02037081867456436}},\n",
       "  {'Index': 18,\n",
       "   'Sentiment': 'NEUTRAL',\n",
       "   'SentimentScore': {'Positive': 0.008895829319953918,\n",
       "    'Negative': 0.0031164553947746754,\n",
       "    'Neutral': 0.9879750609397888,\n",
       "    'Mixed': 1.257920030184323e-05}},\n",
       "  {'Index': 19,\n",
       "   'Sentiment': 'NEUTRAL',\n",
       "   'SentimentScore': {'Positive': 0.01561120618134737,\n",
       "    'Negative': 0.44700318574905396,\n",
       "    'Neutral': 0.510941207408905,\n",
       "    'Mixed': 0.026444485411047935}},\n",
       "  {'Index': 20,\n",
       "   'Sentiment': 'NEUTRAL',\n",
       "   'SentimentScore': {'Positive': 0.09342989325523376,\n",
       "    'Negative': 0.00017024223052430898,\n",
       "    'Neutral': 0.9063478112220764,\n",
       "    'Mixed': 5.2075170970056206e-05}},\n",
       "  {'Index': 21,\n",
       "   'Sentiment': 'NEUTRAL',\n",
       "   'SentimentScore': {'Positive': 0.09686046838760376,\n",
       "    'Negative': 0.2225477248430252,\n",
       "    'Neutral': 0.6803499460220337,\n",
       "    'Mixed': 0.00024181843036785722}},\n",
       "  {'Index': 22,\n",
       "   'Sentiment': 'NEUTRAL',\n",
       "   'SentimentScore': {'Positive': 0.2768912613391876,\n",
       "    'Negative': 0.014753150753676891,\n",
       "    'Neutral': 0.7061695456504822,\n",
       "    'Mixed': 0.0021860406268388033}},\n",
       "  {'Index': 23,\n",
       "   'Sentiment': 'NEUTRAL',\n",
       "   'SentimentScore': {'Positive': 0.06361543387174606,\n",
       "    'Negative': 0.004442447796463966,\n",
       "    'Neutral': 0.9319037199020386,\n",
       "    'Mixed': 3.832173388218507e-05}},\n",
       "  {'Index': 24,\n",
       "   'Sentiment': 'NEUTRAL',\n",
       "   'SentimentScore': {'Positive': 0.030453843995928764,\n",
       "    'Negative': 0.07765290886163712,\n",
       "    'Neutral': 0.89121013879776,\n",
       "    'Mixed': 0.0006831193459220231}}],\n",
       " 'ErrorList': [],\n",
       " 'ResponseMetadata': {'RequestId': 'd7d59d37-aba7-49ba-a6cd-b857b859a8b4',\n",
       "  'HTTPStatusCode': 200,\n",
       "  'HTTPHeaders': {'x-amzn-requestid': 'd7d59d37-aba7-49ba-a6cd-b857b859a8b4',\n",
       "   'content-type': 'application/x-amz-json-1.1',\n",
       "   'content-length': '4401',\n",
       "   'date': 'Mon, 05 Dec 2022 19:09:37 GMT'},\n",
       "  'RetryAttempts': 0}}"
      ]
     },
     "execution_count": 137,
     "metadata": {},
     "output_type": "execute_result"
    }
   ],
   "source": [
    "response"
   ]
  },
  {
   "cell_type": "markdown",
   "metadata": {},
   "source": [
    "# Targeted Sentiment Analysis\n",
    "Targeted sentiment provides a granular understanding of the sentiments associated with specific entities (such as brands or products) in your input documents.\n",
    "\n",
    "The difference between targeted sentiment and sentiment is the level of granularity in the output data. \n",
    "Sentiment analysis determines the dominant sentiment for each input document, but doesn't provide data for further analysis. Targeted sentiment analysis determines the entity-level sentiment for specific entities in each input document. You can analyze the output data to determine the specific products and services that get positive or negative feedback.\n",
    "\n",
    "Sentiment analysis determines whether the overall sentiment of each restaurant review is positive, negative, neutral, or mixed. In this example, the overall sentiment is positive.\n",
    "\n",
    "Targeted sentiment analysis determines sentiment for entities and attributes of the restaurant that customers mention in the reviews. In this example, the customer made positive comments about “tacos” and “staff”.\n",
    "\n",
    "Supported Entity Types\n",
    "\n",
    "![image.png](imgs/targeted_sentiment_entity_types.png)\n",
    "\n",
    "\n",
    "Targeted sentiment provides the following outputs for each analysis job:\n",
    "\n",
    "* Identity of the entities mentioned in the documents.\n",
    "* Classification of the entity type for each entity mention.\n",
    "* The sentiment and a sentiment score for each entity mention.\n",
    "* Groups of mentions (co-reference groups) that correspond to a single entity.\n"
   ]
  },
  {
   "cell_type": "markdown",
   "metadata": {},
   "source": [
    "## In our example, we'll use the movie overviews as the input to detect targeted sentiment analysis"
   ]
  },
  {
   "cell_type": "code",
   "execution_count": 144,
   "metadata": {},
   "outputs": [],
   "source": [
    "response = comprehend.detect_targeted_sentiment(\n",
    "    Text=test_overview_string,\n",
    "    LanguageCode='en'\n",
    ")"
   ]
  },
  {
   "cell_type": "code",
   "execution_count": 2,
   "metadata": {},
   "outputs": [
    {
     "ename": "NameError",
     "evalue": "name 'response' is not defined",
     "output_type": "error",
     "traceback": [
      "\u001b[0;31m---------------------------------------------------------------------------\u001b[0m",
      "\u001b[0;31mNameError\u001b[0m                                 Traceback (most recent call last)",
      "\u001b[0;32m<ipython-input-2-ab0153f39f33>\u001b[0m in \u001b[0;36m<module>\u001b[0;34m\u001b[0m\n\u001b[0;32m----> 1\u001b[0;31m \u001b[0mresponse\u001b[0m\u001b[0;34m\u001b[0m\u001b[0;34m\u001b[0m\u001b[0m\n\u001b[0m",
      "\u001b[0;31mNameError\u001b[0m: name 'response' is not defined"
     ]
    }
   ],
   "source": [
    "response"
   ]
  },
  {
   "cell_type": "markdown",
   "metadata": {},
   "source": [
    "# Detecting Key Phrases\n",
    "\n",
    "A key phrase is a string containing a noun phrase that describes a particular thing. It generally consists of a noun and the modifiers that distinguish it. For example, \"day\" is a noun; \"a beautiful day\" is a noun phrase that includes an article (\"a\") and an adjective (\"beautiful\"). Each key phrase includes a score that indicates the level of confidence that Amazon Comprehend has that the string is a noun phrase. You can use the score to determine if the detection has high enough confidence for your application.\n",
    "\n",
    "Detect key phrases operations can be performed using any of the primary languages supported by Amazon Comprehend. All documents must be in the same language.\n",
    "You can use any of the following operations to detect key phrases in a document or set of documents.\n",
    "\n",
    "For our example, we'll use Amazon Comprehend to extract key phrases on the movie overview content"
   ]
  },
  {
   "cell_type": "code",
   "execution_count": 147,
   "metadata": {},
   "outputs": [
    {
     "data": {
      "text/plain": [
       "\"When Queen Elizabeth's reign is threatened by ruthless familial betrayal and Spain's invading army, she and her shrewd adviser must act to safeguard to the lives of her people.\""
      ]
     },
     "execution_count": 147,
     "metadata": {},
     "output_type": "execute_result"
    }
   ],
   "source": [
    "test_overview_string"
   ]
  },
  {
   "cell_type": "code",
   "execution_count": 146,
   "metadata": {},
   "outputs": [
    {
     "name": "stdout",
     "output_type": "stream",
     "text": [
      "Calling DetectKeyPhrases\n",
      "{\n",
      "    \"KeyPhrases\": [\n",
      "        {\n",
      "            \"BeginOffset\": 5,\n",
      "            \"EndOffset\": 20,\n",
      "            \"Score\": 0.999947726726532,\n",
      "            \"Text\": \"Queen Elizabeth\"\n",
      "        },\n",
      "        {\n",
      "            \"BeginOffset\": 23,\n",
      "            \"EndOffset\": 28,\n",
      "            \"Score\": 0.9999405741691589,\n",
      "            \"Text\": \"reign\"\n",
      "        },\n",
      "        {\n",
      "            \"BeginOffset\": 46,\n",
      "            \"EndOffset\": 72,\n",
      "            \"Score\": 0.9997791647911072,\n",
      "            \"Text\": \"ruthless familial betrayal\"\n",
      "        },\n",
      "        {\n",
      "            \"BeginOffset\": 77,\n",
      "            \"EndOffset\": 82,\n",
      "            \"Score\": 0.999193012714386,\n",
      "            \"Text\": \"Spain\"\n",
      "        },\n",
      "        {\n",
      "            \"BeginOffset\": 85,\n",
      "            \"EndOffset\": 98,\n",
      "            \"Score\": 0.9990389943122864,\n",
      "            \"Text\": \"invading army\"\n",
      "        },\n",
      "        {\n",
      "            \"BeginOffset\": 108,\n",
      "            \"EndOffset\": 126,\n",
      "            \"Score\": 0.9996461272239685,\n",
      "            \"Text\": \"her shrewd adviser\"\n",
      "        },\n",
      "        {\n",
      "            \"BeginOffset\": 152,\n",
      "            \"EndOffset\": 161,\n",
      "            \"Score\": 0.9999759793281555,\n",
      "            \"Text\": \"the lives\"\n",
      "        },\n",
      "        {\n",
      "            \"BeginOffset\": 165,\n",
      "            \"EndOffset\": 175,\n",
      "            \"Score\": 0.9999883770942688,\n",
      "            \"Text\": \"her people\"\n",
      "        }\n",
      "    ],\n",
      "    \"ResponseMetadata\": {\n",
      "        \"HTTPHeaders\": {\n",
      "            \"content-length\": \"688\",\n",
      "            \"content-type\": \"application/x-amz-json-1.1\",\n",
      "            \"date\": \"Mon, 05 Dec 2022 20:22:24 GMT\",\n",
      "            \"x-amzn-requestid\": \"6235e2c0-838a-42da-a964-2bdd6f2df11c\"\n",
      "        },\n",
      "        \"HTTPStatusCode\": 200,\n",
      "        \"RequestId\": \"6235e2c0-838a-42da-a964-2bdd6f2df11c\",\n",
      "        \"RetryAttempts\": 0\n",
      "    }\n",
      "}\n",
      "End of DetectKeyPhrases\n",
      "\n"
     ]
    }
   ],
   "source": [
    "print('Calling DetectKeyPhrases')\n",
    "print(json.dumps(comprehend.detect_key_phrases(Text=test_overview_string, LanguageCode='en'), sort_keys=True, indent=4))\n",
    "print('End of DetectKeyPhrases\\n')"
   ]
  },
  {
   "cell_type": "markdown",
   "metadata": {},
   "source": [
    "# Batch Key Phrase Detection\n",
    "\n",
    "Detects the key noun phrases found in a batch of documents. The limit for a single batch is 25 documents."
   ]
  },
  {
   "cell_type": "code",
   "execution_count": 162,
   "metadata": {},
   "outputs": [
    {
     "name": "stdout",
     "output_type": "stream",
     "text": [
      "TEXT: The life of a young computer systems analyst is thrown into turmoil after arriving in Istanbul to start a new job. She soon finds her passport missing, her credit cards useless, her bank account empty and her identity stolen. As the story progresses we find people and events may not be what they seem ...\n",
      "KEY_PHRASES: ['The life', 'a young computer systems analyst', 'turmoil', 'Istanbul', 'a new job', 'her passport', 'her credit cards', 'her bank account', 'her identity', 'the story', 'people and events']\n",
      "===========================================================================================================================================\n",
      "TEXT: A film producer who was adopted as a baby and sent to America, returns to her native Russia and the family farm. Once there, strange things begin to happen including the disappearance of her guide, the manifestation of ghosts (including her own!) and the appearance of another man who has been drawn to the farm for the same reasons.\n",
      "KEY_PHRASES: ['A film producer', 'a baby', 'America', 'her native Russia', 'the family farm', 'strange things', 'the disappearance', 'her guide', 'the manifestation', 'ghosts', 'her own', 'the appearance', 'another man', 'the farm', 'the same reasons']\n",
      "===========================================================================================================================================\n",
      "TEXT: A pregnant widow, believing herself to be guided by her unborn child, embarks on a homicidal rampage.\n",
      "KEY_PHRASES: ['A pregnant widow', 'her unborn child', 'a homicidal rampage']\n",
      "===========================================================================================================================================\n",
      "TEXT: After arriving in India, Indiana Jones is asked by a desperate village to find a mystical stone. He agrees – and stumbles upon a secret cult plotting a terrible plan in the catacombs of an ancient palace.\n",
      "KEY_PHRASES: ['India', 'Indiana Jones', 'a desperate village', 'a mystical stone', 'a secret cult', 'a terrible plan', 'the catacombs', 'an ancient palace']\n",
      "===========================================================================================================================================\n",
      "TEXT: Fiction inspired from the story of the rise and the fall of french politician and former head of the International Monetary Fund, Dominique Strauss-Kahn.\n",
      "KEY_PHRASES: ['Fiction', 'the story', 'the rise', 'the fall', 'french politician and former head', 'the International Monetary Fund', 'Dominique Strauss-Kahn']\n",
      "===========================================================================================================================================\n",
      "TEXT: The U.S. government, eager to protect the nation's avacado supplies, recruits feminist professor Margo Hunt to make contact with the Piranha Women, an all-female tribe who believe men are only good as a source of food. Accompanying Dr. Hunt on her trip are Jim, a guide of questionable competence, and Bunny, a student of unquestionable incompetence.\n",
      "KEY_PHRASES: ['The U.S. government', 'the nation', 'avacado supplies', 'recruits feminist professor Margo Hunt', 'contact', 'the Piranha Women', 'an all-female tribe', 'men', 'a source', 'food', 'Accompanying Dr. Hunt', 'her trip', 'Jim', 'a guide', 'questionable competence', 'Bunny', 'a student', 'unquestionable incompetence']\n",
      "===========================================================================================================================================\n",
      "TEXT: Seth and Jonah are twins with a dangerous ability: telekinesis. Things start to spiral out of control as their classmates die in twisted and bizarre ways. Jealousy begins to divide them and soon they can no longer trust each other, leading up to a horrific battle against themselves.\n",
      "KEY_PHRASES: ['Seth and Jonah', 'twins', 'a dangerous ability', 'telekinesis', 'Things', 'control', 'their classmates', 'twisted and bizarre ways', 'Jealousy', 'each other', 'a horrific battle']\n",
      "===========================================================================================================================================\n",
      "TEXT: Retirement at last! Middle-aged and divorced, company owner Richard Jones is looking forward to a worry-free existence as he arrives at his office on his last day of work. Much to his dismay, he discovers that the management buyout of his company was fraudulent. The company is now bankrupt and the employee pension fund — including his own — has been embezzled. Enlisting the help of his ex-wife Kate, Richard sets out to track down the shady businessman behind the fraud...\n",
      "KEY_PHRASES: ['Retirement', 'Middle-aged', 'company owner Richard Jones', 'a worry-free existence', 'his office', 'his last day', 'work', 'his dismay', 'the management buyout', 'his company', 'The company', 'the employee pension fund —', 'his own —', 'the help', 'his ex-wife Kate', 'Richard', 'the shady businessman', 'the fraud']\n",
      "===========================================================================================================================================\n",
      "TEXT: A young man must find his own way as his Southern Baptist roots don't seem to be acceptable at his new liberal arts college.\n",
      "KEY_PHRASES: ['A young man', 'his own way', 'his Southern Baptist roots', 'his new liberal arts college']\n",
      "===========================================================================================================================================\n",
      "TEXT: Louis Hayward stars as a wealthy man who tries to seduce the family maid. She resists, and he kills her. Long jealous of his brother Lee Bowman, Hayward does his best to pin the blame for the murder on his sibling. Also affected by Hayward's arrogant dementia is his long-suffering wife Jane Wyatt. Originally, director Lang had proposed that the unfortunate maid be a black woman, but was over ruled\n",
      "KEY_PHRASES: ['Louis Hayward', 'a wealthy man', 'the family maid', 'Long jealous', 'his brother Lee Bowman', 'Hayward', 'his best', 'the blame', 'the murder', 'his sibling', 'Hayward', 'arrogant dementia', 'his long-suffering wife Jane Wyatt', 'director Lang', 'the unfortunate maid', 'a black woman']\n",
      "===========================================================================================================================================\n",
      "TEXT: A resident of a suburban dystopia tries to reassemble his fragmented memories of life as a teen.\n",
      "KEY_PHRASES: ['A resident', 'a suburban dystopia', 'his fragmented memories', 'life', 'a teen']\n",
      "===========================================================================================================================================\n",
      "TEXT: Hamlet comes home from university to find his uncle married to his mother, and his father's ghost haunting the battlements and scaring the watch. Then his father's ghost directs him to seek revenge.\n",
      "KEY_PHRASES: ['Hamlet', 'university', 'his uncle', 'his mother', 'his father', 'ghost', 'the battlements', 'the watch', 'his father', 'ghost', 'revenge']\n",
      "===========================================================================================================================================\n",
      "TEXT: Maverick is a gambler who would rather con someone than fight them. He needs an additional three thousand dollars in order to enter a Winner Take All poker game that begins in a few days. He tries to win some, tries to collect a few debts, and recover a little loot for the reward. He joins forces with a woman gambler with a marvelous southern accent as the two both try and enter the game.\n",
      "KEY_PHRASES: ['Maverick', 'a gambler', 'an additional three thousand dollars', 'a Winner', 'All poker game', 'a few days', 'a few debts', 'a little loot', 'the reward', 'forces', 'a woman gambler', 'a marvelous southern accent', 'the two', 'the game']\n",
      "===========================================================================================================================================\n",
      "TEXT: When villagers begin disappearing it is discovered that they had fallen through a crack in the earth which goes straight to Hades. Hercules once again comes to the rescue and faces one of his most difficult challenges, and must prove himself as a man as well as a god. \"Hercules in the Underworld\" is the fourth made for TV movie in the series Hercules: The Legendary Journeys.\n",
      "KEY_PHRASES: ['villagers', 'a crack', 'the earth', 'Hades', 'Hercules', 'the rescue', 'his most difficult challenges', 'a man', 'a god', 'Hercules', 'the Underworld', 'the fourth', 'TV movie', 'the series Hercules', 'The Legendary Journeys']\n",
      "===========================================================================================================================================\n",
      "TEXT: A family discovers that dark spirits have invaded their home after their son inexplicably falls into an endless sleep. When they reach out to a professional for help, they learn things are a lot more personal than they thought.\n",
      "KEY_PHRASES: ['A family', 'dark spirits', 'their home', 'their son', 'an endless sleep', 'a professional', 'things', 'a lot']\n",
      "===========================================================================================================================================\n",
      "TEXT: Years after a mysterious plague has devastated the planet and turned most of humanity into blood-hungry creatures, a rogue drifter on a vengeful hunt stumbles across a band of survivors in an abandoned police station and reluctantly agrees to try to help them defend themselves and escape to the sanctuary they so desperately need.\n",
      "KEY_PHRASES: ['Years', 'a mysterious plague', 'the planet', 'humanity', 'blood-hungry creatures', 'a rogue drifter', 'a vengeful hunt', 'a band', 'survivors', 'an abandoned police station', 'the sanctuary']\n",
      "===========================================================================================================================================\n",
      "TEXT: In a future Earth barren of all flora and fauna, the planet's ecosystems exist only in large pods attached to spacecraft. When word comes in that the pods are to be jettisoned into space and destroyed so that the spacecraft can be reused for commercial purposes, most of the crew of the Valley Forge rejoice at the prospect of going home. Not so for botanist Freeman Lowell who loves the forest and its creatures, so decides to take matters into his own hands to protect what he loves.\n",
      "KEY_PHRASES: ['a future Earth barren', 'all flora and fauna', 'the planet', 'ecosystems', 'large pods', 'spacecraft', 'word', 'the pods', 'space', 'the spacecraft', 'commercial purposes', 'the crew', 'the Valley Forge', 'the prospect', 'home', 'botanist Freeman Lowell', 'the forest', 'its creatures', 'matters', 'his own hands']\n",
      "===========================================================================================================================================\n",
      "TEXT: A doctor's daughter is kidnapped and buried alive, and he is given just five hours to find and rescue her.\n",
      "KEY_PHRASES: ['A doctor', 'daughter', 'just five hours']\n",
      "===========================================================================================================================================\n",
      "TEXT: Col. Guile and various other martial arts heroes fight against the tyranny of Dictator M. Bison and his cohorts.\n",
      "KEY_PHRASES: ['Col. Guile', 'various other martial arts heroes', 'the tyranny', 'Dictator M. Bison', 'his cohorts']\n",
      "===========================================================================================================================================\n",
      "TEXT: A year after witnessing a murder, residents of Tower Block 31 find themselves being picked off by a sniper, pitting those lucky enough to be alive into a battle for survival.\n",
      "KEY_PHRASES: ['A year', 'a murder', 'residents', 'Tower Block 31', 'a sniper', 'a battle', 'survival']\n",
      "===========================================================================================================================================\n",
      "TEXT: This lively documentary explores the rise and fall of physical media from the origin of film all the way through the video store era into digital media, focusing on B-movie and cult films. With icons like Joe Bob Briggs (MonsterVision), Lloyd Kaufman (Toxic Avenger), Greg Sestero (The Room), Debbie Rochon (Return to Nuke 'Em High), Deborah Reed (Troll 2), Mark Frazer (Samurai Cop), James Nguyen (Birdemic) and many others.\n",
      "KEY_PHRASES: ['This lively documentary', 'the rise and fall', 'physical media', 'the origin', 'film', 'all the way', 'the video store era', 'digital media', 'B-movie and cult films', 'icons', 'Joe Bob Briggs', 'MonsterVision', 'Lloyd Kaufman', 'Toxic Avenger', 'Greg Sestero', 'The Room', 'Debbie Rochon', 'Return', 'Nuke', \"'Em High\", 'Deborah Reed', 'Troll 2', 'Mark Frazer', 'Samurai Cop', 'James Nguyen', 'Birdemic', 'many others']\n",
      "===========================================================================================================================================\n",
      "TEXT: Sylvia West (Carroll Baker) may not be who she says she is. Her fiancé, the very well-to-do Frederick Summers (Peter Lawford), hires an investigator named Alan Maklin (George Maharis) to do some digging, and what he finds out about her life prior to becoming a writer is quite shocking. Will the newfound knowledge ruin the marriage? Gordon Douglas (Young at Heart) directs this drama, which is based on E.V. Cunningham's book.\n",
      "KEY_PHRASES: ['Sylvia West', 'Carroll Baker', 'Her fiancé', 'the very well-to-do Frederick Summers', 'Peter Lawford', 'an investigator', 'Alan Maklin', 'George Maharis', 'some digging', 'her life', 'a writer', 'the newfound knowledge', 'the marriage', 'Gordon Douglas', 'Young', 'Heart', 'this drama', 'E.V. Cunningham', 'book']\n",
      "===========================================================================================================================================\n",
      "TEXT: Based on the novel by Ernest Hemingway. Santiago goes out on his usual fishing trip and makes a huge catch, the biggest of his life. Then a shark attacks and tries to steal his catch.\n",
      "KEY_PHRASES: ['the novel', 'Ernest Hemingway', 'Santiago', 'his usual fishing trip', 'a huge catch', 'the biggest', 'his life', 'a shark', 'his catch']\n",
      "===========================================================================================================================================\n",
      "TEXT: When Stuart learns that his British ex-girlfriend is planning to visit Los Angeles with her husband, he sets out to impress them with his glamorous lifestyle, enlisting a Russian model he’s just met to play the role of his beautiful girlfriend. What could go wrong?\n",
      "KEY_PHRASES: ['Stuart', 'his British ex-girlfriend', 'Los Angeles', 'her husband', 'his glamorous lifestyle', 'a Russian model', 'the role', 'his beautiful girlfriend']\n",
      "===========================================================================================================================================\n",
      "TEXT: Lord John Morgan has returned to civilized life in England, but finds he has nothing but disdain for that life. Yearning to embrace the simplicity of the American West-and the Yellow Hands Sioux tribe he left behind, Morgan returns to the tribe's land only to discover that they've been decimated by ruthless, government-backed fur traders. They must regain their land, led by Horse.\n",
      "KEY_PHRASES: ['Lord John Morgan', 'civilized life', 'England', 'disdain', 'that life', 'the simplicity', 'the American West', 'the Yellow Hands Sioux tribe', 'Morgan', 'the tribe', 'land', 'ruthless, government-backed fur traders', 'their land', 'Horse']\n",
      "===========================================================================================================================================\n"
     ]
    }
   ],
   "source": [
    "response = comprehend.batch_detect_key_phrases(\n",
    "    TextList=list(batch_sentiment_samples),\n",
    "    LanguageCode='en'\n",
    ")\n",
    "# print(json.dumps(response, sort_keys=True, indent=4))\n",
    "for idx, result in enumerate(response['ResultList']):\n",
    "    key_phrases = [ x['Text'] for x in result['KeyPhrases']]\n",
    "    text = batch_sentiment_samples[idx]\n",
    "    print(f\"TEXT: {text}\")\n",
    "    print(f\"KEY_PHRASES: {key_phrases}\")\n",
    "    print(f\"===========================================================================================================================================\")"
   ]
  },
  {
   "cell_type": "code",
   "execution_count": 167,
   "metadata": {},
   "outputs": [],
   "source": [
    "s3_document_targeted_sentiment_analysis_upload_prefix = \"data/comprehend/targeted-sentiment-analysis-input\" \n",
    "s3_document_targeted_sentiment_analysis_output_prefix = \"data/comprehend/targeted-sentiment-analysis-output\"\n",
    "target_sentiment_analysis_input_doc_format = \"ONE_DOC_PER_FILE\"\n",
    "target_sentiment_analysis_job_name = f\"subtitle_targeted_sentiment-{int(time.time())}\""
   ]
  },
  {
   "cell_type": "code",
   "execution_count": 168,
   "metadata": {},
   "outputs": [],
   "source": [
    "import glob\n",
    "\n",
    "for file in glob.glob(os.path.join(\"files\", '*.txt')):\n",
    "    with open(file, \"rb\") as f:\n",
    "        s3.upload_fileobj(f, default_bucket, os.path.join(s3_document_targeted_sentiment_analysis_upload_prefix, os.path.basename(file)))"
   ]
  },
  {
   "cell_type": "code",
   "execution_count": 171,
   "metadata": {},
   "outputs": [
    {
     "name": "stdout",
     "output_type": "stream",
     "text": [
      "{'JobId': 'caf72f160726e9bfb51e6a781bd550fc', 'JobArn': 'arn:aws:comprehend:us-east-2:869530972998:targeted-sentiment-detection-job/caf72f160726e9bfb51e6a781bd550fc', 'JobStatus': 'SUBMITTED', 'ResponseMetadata': {'RequestId': '02b9c2c5-9e19-4e3c-b551-981d0b53bb83', 'HTTPStatusCode': 200, 'HTTPHeaders': {'x-amzn-requestid': '02b9c2c5-9e19-4e3c-b551-981d0b53bb83', 'content-type': 'application/x-amz-json-1.1', 'content-length': '187', 'date': 'Mon, 05 Dec 2022 23:15:38 GMT'}, 'RetryAttempts': 0}}\n"
     ]
    }
   ],
   "source": [
    "response = comprehend.start_targeted_sentiment_detection_job(\n",
    "    InputDataConfig={\n",
    "        'S3Uri': f\"s3://{default_bucket}/{s3_document_targeted_sentiment_analysis_upload_prefix}\",\n",
    "        'InputFormat': 'ONE_DOC_PER_FILE',\n",
    "    },\n",
    "    OutputDataConfig={\n",
    "        'S3Uri': f\"s3://{default_bucket}/{s3_document_targeted_sentiment_analysis_output_prefix}\",\n",
    "    },\n",
    "    DataAccessRoleArn=data_access_role_arn,\n",
    "    JobName=target_sentiment_analysis_job_name,\n",
    "    LanguageCode='en',\n",
    ")\n",
    "print(response)\n",
    "target_sentiment_analysis_job_id = response['JobId']"
   ]
  },
  {
   "cell_type": "code",
   "execution_count": 172,
   "metadata": {},
   "outputs": [],
   "source": [
    "target_sentiment_analysis_job_id = \"caf72f160726e9bfb51e6a781bd550fc\""
   ]
  },
  {
   "cell_type": "code",
   "execution_count": null,
   "metadata": {},
   "outputs": [],
   "source": []
  }
 ],
 "metadata": {
  "kernelspec": {
   "display_name": "Python 3 (Data Science)",
   "language": "python",
   "name": "python3__SAGEMAKER_INTERNAL__arn:aws:sagemaker:us-east-1:081325390199:image/datascience-1.0"
  },
  "language_info": {
   "codemirror_mode": {
    "name": "ipython",
    "version": 3
   },
   "file_extension": ".py",
   "mimetype": "text/x-python",
   "name": "python",
   "nbconvert_exporter": "python",
   "pygments_lexer": "ipython3",
   "version": "3.7.10"
  }
 },
 "nbformat": 4,
 "nbformat_minor": 4
}
